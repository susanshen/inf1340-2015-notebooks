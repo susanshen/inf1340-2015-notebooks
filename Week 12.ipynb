{
 "cells": [
  {
   "cell_type": "markdown",
   "metadata": {},
   "source": [
    "# Overview\n",
    "\n",
    "* Hour 1\n",
    "  * Object-oriented programming\n",
    "  * GUI programming\n",
    "* Hour 2\n",
    "  * Git\n",
    "  * Review\n",
    "* Hour 3\n",
    "  * Work time"
   ]
  },
  {
   "cell_type": "markdown",
   "metadata": {},
   "source": [
    "# Review: OO Concepts\n",
    "\n",
    "## Objects\n",
    "* Objects are created from abstract data types that encapsulate data and functionality together.\n",
    "* Idea: Objects, or data representations, are more stable than functionality.\n",
    "* Also called *encapsulation*\n",
    "\n",
    "![](images/object.png)\n",
    "\n",
    "* Information hiding\n",
    "* Object reusability\n",
    "\n",
    "Functions attached to an object are called methods.\n",
    "\n",
    "## Classes\n",
    "\n",
    "* A class is the code that specifies the data attributes and methods for a particular type of object.\n",
    "* They are like blueprints or cookie cutters"
   ]
  },
  {
   "cell_type": "code",
   "execution_count": 15,
   "metadata": {
    "collapsed": true
   },
   "outputs": [],
   "source": [
    "import random\n",
    "\n",
    "# The Coin class simulates a coin that can be flipped\n",
    "\n",
    "class Coin:\n",
    "    # The __init__ methods is the constructor\n",
    "    \n",
    "    def __init__(self):\n",
    "        self.sideup = 'Heads'\n",
    "    \n",
    "    def toss(self):\n",
    "        flip = random.randint(0, 1)\n",
    "        if flip == 0:\n",
    "            self.sideup = \"Heads\"\n",
    "        else:\n",
    "            self.sideup = \"Tails\"\n",
    "    \n",
    "    def get_sideup(self):\n",
    "        return self.sideup"
   ]
  },
  {
   "cell_type": "code",
   "execution_count": 17,
   "metadata": {
    "collapsed": false
   },
   "outputs": [
    {
     "name": "stdout",
     "output_type": "stream",
     "text": [
      "This side is up: Heads\n",
      "I am tossing the coin...\n",
      "This side is up: Tails\n"
     ]
    }
   ],
   "source": [
    "def main():\n",
    "    my_coin = Coin()\n",
    "    \n",
    "    print(\"This side is up: \" + my_coin.get_sideup())\n",
    "    \n",
    "    print(\"I am tossing the coin...\")\n",
    "    my_coin.toss()\n",
    "    \n",
    "    print(\"This side is up: \" + my_coin.get_sideup())\n",
    "\n",
    "main()"
   ]
  },
  {
   "cell_type": "markdown",
   "metadata": {},
   "source": [
    "# Graphical User Interface (GUI)\n",
    "\n",
    "A graphical user interface allows the user to interact with the operating system and other programs using graphical elements such as icons, buttons, and dialog boxes. \n",
    "\n",
    "A great way to explain object-oriented programming, because in a GUI everything is an object.\n",
    "\n",
    "## GUI Programs are Event-Driven\n",
    "\n",
    "They respond to the actions of the user. The user causes events to take place, such as clicking a button, and the program must respond to the events."
   ]
  },
  {
   "cell_type": "markdown",
   "metadata": {},
   "source": [
    "# Tkinter Module\n",
    "\n",
    "Tkinter is short for \"Tk interface.\" Tk is a GUI library that works with many programming languages. \n",
    "\n",
    "Many GUI libraries are available for Python. Tkinter is distributed with Python, so nothing else needs to be installed."
   ]
  },
  {
   "cell_type": "code",
   "execution_count": 18,
   "metadata": {
    "collapsed": false
   },
   "outputs": [],
   "source": [
    "import Tkinter\n",
    "\n",
    "class MainWindow:\n",
    "    def __init__(self):\n",
    "        # Create the main window widget\n",
    "        self.main_window = Tkinter.Tk()\n",
    "        \n",
    "        # Enter the Tkinter main loop\n",
    "        Tkinter.mainloop()\n",
    "\n",
    "# Create an instance of the MainWindow class\n",
    "mw = MainWindow()\n"
   ]
  },
  {
   "cell_type": "markdown",
   "metadata": {
    "collapsed": true
   },
   "source": [
    "![](images/tkinter_widgets.png)"
   ]
  },
  {
   "cell_type": "markdown",
   "metadata": {},
   "source": [
    "# Let's make a GUI for the Name That Shape Program\n",
    "\n",
    "It should look like this.\n",
    "\n",
    "![](images/name_shape_gui.png)"
   ]
  },
  {
   "cell_type": "code",
   "execution_count": null,
   "metadata": {
    "collapsed": false
   },
   "outputs": [],
   "source": []
  },
  {
   "cell_type": "markdown",
   "metadata": {},
   "source": [
    "# Adding and Packing Label Widgets\n"
   ]
  },
  {
   "cell_type": "code",
   "execution_count": 19,
   "metadata": {
    "collapsed": false
   },
   "outputs": [],
   "source": [
    "import Tkinter\n",
    "\n",
    "class NameThatShapeGUI:\n",
    "    def __init__(self):\n",
    "        # Create the main window widget\n",
    "        self.main_window = Tkinter.Tk()\n",
    "        \n",
    "        # Create a Label widget containing the \n",
    "        self.label = Tkinter.Label(self.main_window, text = \"Enter the number of sides in the shape\")\n",
    "        \n",
    "        # Call the Label widget's pack methods\n",
    "        self.label.pack()\n",
    "        \n",
    "        # Enter the Tkinter main loop\n",
    "        Tkinter.mainloop()\n",
    "\n",
    "# Create an instance of the NameThatShapeGUI class\n",
    "ntsg = NameThatShapeGUI()"
   ]
  },
  {
   "cell_type": "markdown",
   "metadata": {},
   "source": [
    "# Button Widgets and Info Dialog Boxes\n",
    "\n",
    "The `Button` widget is used to create buttons in windows. When a user clicks a button, a specified function or method is called.\n",
    "\n",
    "An info dialog box is a simple window that displays a message to the user and has an OK button that dismisses the dialog box."
   ]
  },
  {
   "cell_type": "code",
   "execution_count": 20,
   "metadata": {
    "collapsed": false
   },
   "outputs": [],
   "source": [
    "import Tkinter\n",
    "import tkMessageBox\n",
    "\n",
    "class NameThatShapeGUI:\n",
    "\n",
    "    def __init__(self):\n",
    "        # Create the main window widget\n",
    "        self.main_window = Tkinter.Tk()\n",
    "\n",
    "        # Create a Button widget\n",
    "        self.my_button = Tkinter.Button(self.main_window,\n",
    "                                        text=\"Name\",\n",
    "                                        command=self.do_something)\n",
    "\n",
    "        # Call the Button widget's pack methods\n",
    "        self.my_button.pack()\n",
    "\n",
    "        # Enter the Tkinter main loop\n",
    "        Tkinter.mainloop()\n",
    "\n",
    "    def do_something(self):\n",
    "        # Display and info dialog box\n",
    "        tkMessageBox.showinfo(\"Response\", \"Thanks for clicking\")\n",
    "\n",
    "# Create an instance of the NameThatShapeGUI class\n",
    "ntsg = NameThatShapeGUI()"
   ]
  },
  {
   "cell_type": "markdown",
   "metadata": {},
   "source": [
    "# Getting Input with the Entry Widget\n",
    "\n",
    "An `Entry` widget is a rectangular area that the user can type input into. You use the `Entry` widget's `get` method to retrieve the data that has been typed into the widget."
   ]
  },
  {
   "cell_type": "code",
   "execution_count": 8,
   "metadata": {
    "collapsed": true
   },
   "outputs": [],
   "source": []
  },
  {
   "cell_type": "markdown",
   "metadata": {},
   "source": [
    "# Using Labels as Output Fields\n",
    "\n",
    "When a `StringVar` object is associated with a `Label` widget, the `Label` widget displays any data that is stored in the `StringVar` object."
   ]
  },
  {
   "cell_type": "code",
   "execution_count": 14,
   "metadata": {
    "collapsed": true
   },
   "outputs": [],
   "source": [
    "import Tkinter\n",
    "import tkMessageBox\n",
    "\n",
    "\n",
    "class NameThatShapeGUI:\n",
    "    def __init__(self):\n",
    "        # Create the main window widget\n",
    "        self.main_window = Tkinter.Tk()\n",
    "        self.main_window.geometry('500x100')\n",
    "\n",
    "        # Create two frames to group widgets\n",
    "        self.top_frame = Tkinter.Frame(self.main_window)\n",
    "        self.middle_frame = Tkinter.Frame(self.main_window)\n",
    "        self.bottom_frame = Tkinter.Frame(self.main_window)\n",
    "\n",
    "        # Create widgets for the top frame\n",
    "        self.prompt_label = Tkinter.Label(self.top_frame,\n",
    "                                          text=\"Enter the number of sides in the shape:\")\n",
    "        self.side_entry = Tkinter.Entry(self.top_frame, width=10)\n",
    "\n",
    "        # Pack the top frame's widgets\n",
    "        self.prompt_label.pack(side=\"left\")\n",
    "        self.side_entry.pack(side=\"left\")\n",
    "\n",
    "        # Create widgets for the middle frame\n",
    "        self.descr_label = Tkinter.Label(self.middle_frame, text=\"Name of shape:\")\n",
    "        self.value = Tkinter.StringVar()\n",
    "        self.value.set(\"\")\n",
    "        self.shape_name = Tkinter.Label(self.middle_frame, textvariable=self.value)\n",
    "\n",
    "        # Pack the middle frame's widgets\n",
    "        self.descr_label.pack(side=\"left\")\n",
    "        self.shape_name.pack(side=\"left\")\n",
    "\n",
    "\n",
    "        # Create widgets for bottom frame\n",
    "        self.conv_button = Tkinter.Button(self.bottom_frame,\n",
    "                                          text=\"Name\",\n",
    "                                          command=self.convert)\n",
    "\n",
    "        self.quit_button = Tkinter.Button(self.bottom_frame,\n",
    "                                          text=\"Quit\",\n",
    "                                          command=self.main_window.destroy)\n",
    "\n",
    "        # Pack the bottom buttons\n",
    "        self.conv_button.pack(side=\"left\")\n",
    "        self.quit_button.pack(side=\"left\")\n",
    "\n",
    "        # Pack the frames\n",
    "        self.top_frame.pack()\n",
    "        self.middle_frame.pack()\n",
    "        self.bottom_frame.pack()\n",
    "\n",
    "\n",
    "        # Enter the Tkinter main loop\n",
    "        Tkinter.mainloop()\n",
    "\n",
    "    def convert(self):\n",
    "        # Display and info dialog box\n",
    "        self.value.set(self.side_entry.get())\n",
    "        tkMessageBox.showinfo(\"Response\", self.side_entry.get())\n",
    "\n",
    "# Create an instance of the MainWindow class\n",
    "ntsg = NameThatShapeGUI()"
   ]
  },
  {
   "cell_type": "markdown",
   "metadata": {},
   "source": [
    "# Git\n",
    "\n",
    "* See slides from Week 2"
   ]
  },
  {
   "cell_type": "markdown",
   "metadata": {},
   "source": [
    "# Rules of Programming\n",
    "\n",
    "Rule 0. Don't panic.\n",
    "\n",
    "Rule 1. Think before you program.\n",
    "\n",
    "Rule 2. A program is a human-readable essay on problem solving tht also happens to execute on a computer.\n",
    "\n",
    "Rule 3. The best way to improve your programming and problem skills is to practice.\n",
    "\n",
    "Rule 4. A foolish consistency is the hobgoblin of little minds.\n",
    "\n",
    "Rule 5. Test your code, often and thoroughly.\n",
    "\n",
    "Rule 6. If it was hard to write, it is probably hard to read. Add a comment.\n",
    "\n",
    "Rule 7. All input is evil, until proven otherwise.\n",
    "\n",
    "Rule 8. A function should do one thing."
   ]
  },
  {
   "cell_type": "markdown",
   "metadata": {},
   "source": [
    "# Topics for Test\n",
    "\n",
    "* Interpreters\n",
    "* Rules of Programming\n",
    "* Variables\n",
    "* Data Types\n",
    "  * Mutability\n",
    "* Input, processing, and output\n",
    "  * Keyboard input\n",
    "  * Screen output\n",
    "* Decision structures (if/elif/else)\n",
    "* Boolean expressions and operators\n",
    "* Reptition structures\n",
    "  * Condition controlled (while)\n",
    "  * Count controlled (for)\n",
    "    * range function\n",
    "* Strings\n",
    "  * Indexing\n",
    "  * Slicing\n",
    "* Exceptions\n",
    "  * try/except\n",
    "  * raise\n",
    "* Composite Data Structures\n",
    "  * Lists\n",
    "  * Tuple\n",
    "  * Dictionary\n",
    "  * Set\n",
    "* Programming Style\n",
    "* Testing\n",
    "* Decomposition\n",
    "  * Modules\n",
    "  * Functions and methods\n",
    "  * Classes  \n",
    "* Files I/O\n",
    "* JSON\n",
    "* Regular Expressions\n",
    "* Git\n",
    "\n"
   ]
  },
  {
   "cell_type": "code",
   "execution_count": null,
   "metadata": {
    "collapsed": true
   },
   "outputs": [],
   "source": []
  }
 ],
 "metadata": {
  "kernelspec": {
   "display_name": "Python 2",
   "language": "python",
   "name": "python2"
  },
  "language_info": {
   "codemirror_mode": {
    "name": "ipython",
    "version": 2
   },
   "file_extension": ".py",
   "mimetype": "text/x-python",
   "name": "python",
   "nbconvert_exporter": "python",
   "pygments_lexer": "ipython2",
   "version": "2.7.10"
  }
 },
 "nbformat": 4,
 "nbformat_minor": 0
}
