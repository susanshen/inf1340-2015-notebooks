{
 "cells": [
  {
   "cell_type": "markdown",
   "metadata": {
    "collapsed": true
   },
   "source": [
    "# Overview\n",
    "\n",
    "* Hour 1\n",
    "  * Articulation Work\n",
    "  * Lists\n",
    "* Hour 2\n",
    "  * Programming Style\n",
    "  * Review\n",
    "* Hour 3\n",
    "  * Work time"
   ]
  },
  {
   "cell_type": "markdown",
   "metadata": {},
   "source": [
    "# Articulation Work\n",
    "\n",
    "## Assignment 1\n",
    "\n",
    "* Done grading\n",
    "* Will be returned soon\n",
    "\n",
    "## New Lab Procedure\n",
    "\n",
    "* Release the lab in advance\n",
    "  * In theory, the night before\n",
    "  * In practice, could be the morning of\n",
    "* Graded during third hour of lecture\n",
    "* Can be graded any time before the end of the term\n",
    "* Grading policy applies retroactively"
   ]
  },
  {
   "cell_type": "markdown",
   "metadata": {},
   "source": [
    "# Lists\n",
    "\n",
    "* A list is an object that contains multiple data items\n",
    "* Lists are mutable\n",
    "* Lists can be indexed and sliced\n",
    "* Lists have methods\n",
    "\n",
    "## Syntax\n",
    "* Square brackets\n",
    "* Commas as separators"
   ]
  },
  {
   "cell_type": "code",
   "execution_count": 32,
   "metadata": {
    "collapsed": false
   },
   "outputs": [
    {
     "name": "stdout",
     "output_type": "stream",
     "text": [
      "[1, 'Terry', 4]\n"
     ]
    }
   ],
   "source": [
    "number_list = [1, 2, 4, 8, 16, 32]\n",
    "the_pythons = [\"Graham\", \"Terry\",  \"Michael\", \"Eric\", \"Terry\", \"John\"]\n",
    "mixed = [1, \"Terry\", 4]\n",
    "\n",
    "print (mixed)"
   ]
  },
  {
   "cell_type": "markdown",
   "metadata": {},
   "source": [
    "# Indexing"
   ]
  },
  {
   "cell_type": "code",
   "execution_count": 34,
   "metadata": {
    "collapsed": false
   },
   "outputs": [
    {
     "data": {
      "text/plain": [
       "30"
      ]
     },
     "execution_count": 34,
     "metadata": {},
     "output_type": "execute_result"
    }
   ],
   "source": [
    "my_list = [10, 20, 30, 40]\n",
    "\n",
    "my_list[2]"
   ]
  },
  {
   "cell_type": "markdown",
   "metadata": {},
   "source": [
    "# Iterating over a List"
   ]
  },
  {
   "cell_type": "code",
   "execution_count": 35,
   "metadata": {
    "collapsed": false
   },
   "outputs": [
    {
     "name": "stdout",
     "output_type": "stream",
     "text": [
      "Graham\n",
      "Terry\n",
      "Michael\n",
      "Eric\n",
      "Terry\n",
      "John\n"
     ]
    }
   ],
   "source": [
    "# Using a while loop\n",
    "\n",
    "the_pythons = [\"Graham\", \"Terry\",  \"Michael\", \"Eric\", \"Terry\", \"John\"]\n",
    "\n",
    "index = 0\n",
    "while index < len(the_pythons):\n",
    "    print(the_pythons[index])\n",
    "    index += 1\n"
   ]
  },
  {
   "cell_type": "code",
   "execution_count": 37,
   "metadata": {
    "collapsed": false
   },
   "outputs": [
    {
     "name": "stdout",
     "output_type": "stream",
     "text": [
      "54\n",
      "Graham\n",
      "Terry\n",
      "Michael\n",
      "Eric\n",
      "Terry\n",
      "John\n"
     ]
    }
   ],
   "source": [
    "# Using a for loop\n",
    "\n",
    "the_pythons = [54, \"Graham\", \"Terry\",  \"Michael\", \"Eric\", \"Terry\", \"John\"]\n",
    "for item in the_pythons:\n",
    "    print(item)\n"
   ]
  },
  {
   "cell_type": "markdown",
   "metadata": {},
   "source": [
    "# Lists are Mutable\n",
    "\n",
    "* They can be changed after creation\n"
   ]
  },
  {
   "cell_type": "code",
   "execution_count": 39,
   "metadata": {
    "collapsed": false
   },
   "outputs": [
    {
     "name": "stdout",
     "output_type": "stream",
     "text": [
      "[10, 20, 30, 40]\n",
      "[10, 20, 30, 'Graham']\n"
     ]
    }
   ],
   "source": [
    "my_list = [10, 20, 30, 40]\n",
    "print(my_list)\n",
    "my_list[3] = \"Graham\"\n",
    "print(my_list)"
   ]
  },
  {
   "cell_type": "markdown",
   "metadata": {},
   "source": [
    "# List 'Arithmetic'"
   ]
  },
  {
   "cell_type": "code",
   "execution_count": 41,
   "metadata": {
    "collapsed": false
   },
   "outputs": [
    {
     "data": {
      "text/plain": [
       "[5, 6, 7, 8, 9]"
      ]
     },
     "execution_count": 41,
     "metadata": {},
     "output_type": "execute_result"
    }
   ],
   "source": [
    "range(5, 10)"
   ]
  },
  {
   "cell_type": "code",
   "execution_count": 18,
   "metadata": {
    "collapsed": false
   },
   "outputs": [
    {
     "data": {
      "text/plain": [
       "[0, 1, 2, 3, 4, 5, 6, 7, 8, 9]"
      ]
     },
     "execution_count": 18,
     "metadata": {},
     "output_type": "execute_result"
    }
   ],
   "source": [
    "# Plus sign concatenates two lists\n",
    "list1 = list(range(5))\n",
    "list2 = list(range(5,10))\n",
    "list3 = list1 + list2\n",
    "\n",
    "list3"
   ]
  },
  {
   "cell_type": "code",
   "execution_count": 43,
   "metadata": {
    "collapsed": false
   },
   "outputs": [
    {
     "name": "stdout",
     "output_type": "stream",
     "text": [
      "['Ni!', 'Ni!', 'Ni!', 'Ni!', 'Ni!', 'Ni!', 'Ni!', 'Ni!', 'Ni!', 'Ni!', 'Ni!', 'Ni!', 'Ni!', 'Ni!', 'Ni!', 'Ni!', 'Ni!', 'Ni!', 'Ni!', 'Ni!', 'Ni!', 'Ni!', 'Ni!', 'Ni!', 'Ni!', 'Ni!', 'Ni!', 'Ni!', 'Ni!', 'Ni!', 'Ni!', 'Ni!', 'Ni!', 'Ni!', 'Ni!', 'Ni!', 'Ni!', 'Ni!', 'Ni!', 'Ni!', 'Ni!', 'Ni!', 'Ni!', 'Ni!', 'Ni!', 'Ni!', 'Ni!', 'Ni!', 'Ni!', 'Ni!', 'Ni!', 'Ni!', 'Ni!', 'Ni!', 'Ni!', 'Ni!', 'Ni!', 'Ni!', 'Ni!', 'Ni!', 'Ni!', 'Ni!', 'Ni!', 'Ni!', 'Ni!', 'Ni!', 'Ni!', 'Ni!', 'Ni!', 'Ni!', 'Ni!', 'Ni!', 'Ni!', 'Ni!', 'Ni!', 'Ni!', 'Ni!', 'Ni!', 'Ni!', 'Ni!', 'Ni!', 'Ni!', 'Ni!', 'Ni!', 'Ni!', 'Ni!', 'Ni!', 'Ni!', 'Ni!', 'Ni!', 'Ni!', 'Ni!', 'Ni!', 'Ni!', 'Ni!', 'Ni!', 'Ni!', 'Ni!', 'Ni!', 'Ni!', 'Ni!', 'Ni!', 'Ni!', 'Ni!', 'Ni!', 'Ni!', 'Ni!', 'Ni!', 'Ni!', 'Ni!', 'Ni!', 'Ni!', 'Ni!', 'Ni!', 'Ni!', 'Ni!', 'Ni!', 'Ni!', 'Ni!', 'Ni!', 'Ni!', 'Ni!', 'Ni!', 'Ni!', 'Ni!', 'Ni!', 'Ni!', 'Ni!', 'Ni!', 'Ni!', 'Ni!', 'Ni!', 'Ni!', 'Ni!', 'Ni!', 'Ni!', 'Ni!', 'Ni!', 'Ni!', 'Ni!', 'Ni!', 'Ni!', 'Ni!', 'Ni!', 'Ni!', 'Ni!', 'Ni!', 'Ni!', 'Ni!', 'Ni!', 'Ni!', 'Ni!', 'Ni!', 'Ni!', 'Ni!', 'Ni!', 'Ni!', 'Ni!', 'Ni!', 'Ni!', 'Ni!', 'Ni!', 'Ni!', 'Ni!', 'Ni!', 'Ni!', 'Ni!', 'Ni!', 'Ni!', 'Ni!', 'Ni!', 'Ni!', 'Ni!', 'Ni!', 'Ni!', 'Ni!', 'Ni!', 'Ni!', 'Ni!', 'Ni!', 'Ni!', 'Ni!', 'Ni!', 'Ni!', 'Ni!', 'Ni!', 'Ni!', 'Ni!', 'Ni!', 'Ni!', 'Ni!', 'Ni!', 'Ni!', 'Ni!', 'Ni!', 'Ni!', 'Ni!', 'Ni!', 'Ni!', 'Ni!', 'Ni!', 'Ni!', 'Ni!', 'Ni!', 'Ni!', 'Ni!', 'Ni!', 'Ni!', 'Ni!', 'Ni!', 'Ni!', 'Ni!', 'Ni!', 'Ni!', 'Ni!', 'Ni!', 'Ni!', 'Ni!', 'Ni!', 'Ni!', 'Ni!', 'Ni!', 'Ni!', 'Ni!', 'Ni!', 'Ni!', 'Ni!', 'Ni!', 'Ni!', 'Ni!', 'Ni!', 'Ni!', 'Ni!', 'Ni!', 'Ni!', 'Ni!', 'Ni!', 'Ni!', 'Ni!', 'Ni!', 'Ni!', 'Ni!', 'Ni!', 'Ni!', 'Ni!', 'Ni!', 'Ni!', 'Ni!', 'Ni!', 'Ni!', 'Ni!', 'Ni!', 'Ni!', 'Ni!', 'Ni!', 'Ni!', 'Ni!', 'Ni!', 'Ni!', 'Ni!', 'Ni!', 'Ni!', 'Ni!', 'Ni!', 'Ni!', 'Ni!', 'Ni!', 'Ni!', 'Ni!', 'Ni!', 'Ni!', 'Ni!', 'Ni!', 'Ni!', 'Ni!', 'Ni!', 'Ni!', 'Ni!', 'Ni!', 'Ni!', 'Ni!', 'Ni!', 'Ni!', 'Ni!', 'Ni!', 'Ni!', 'Ni!', 'Ni!', 'Ni!', 'Ni!', 'Ni!', 'Ni!', 'Ni!', 'Ni!', 'Ni!', 'Ni!', 'Ni!', 'Ni!', 'Ni!', 'Ni!', 'Ni!', 'Ni!', 'Ni!', 'Ni!', 'Ni!', 'Ni!', 'Ni!', 'Ni!', 'Ni!', 'Ni!', 'Ni!', 'Ni!', 'Ni!', 'Ni!', 'Ni!', 'Ni!', 'Ni!', 'Ni!', 'Ni!', 'Ni!', 'Ni!', 'Ni!', 'Ni!', 'Ni!', 'Ni!', 'Ni!', 'Ni!', 'Ni!', 'Ni!', 'Ni!', 'Ni!', 'Ni!', 'Ni!', 'Ni!', 'Ni!', 'Ni!', 'Ni!', 'Ni!', 'Ni!', 'Ni!', 'Ni!', 'Ni!', 'Ni!', 'Ni!', 'Ni!', 'Ni!', 'Ni!', 'Ni!', 'Ni!', 'Ni!', 'Ni!', 'Ni!', 'Ni!', 'Ni!', 'Ni!', 'Ni!', 'Ni!', 'Ni!', 'Ni!', 'Ni!', 'Ni!', 'Ni!', 'Ni!', 'Ni!', 'Ni!', 'Ni!', 'Ni!', 'Ni!', 'Ni!', 'Ni!', 'Ni!', 'Ni!', 'Ni!', 'Ni!', 'Ni!', 'Ni!', 'Ni!', 'Ni!', 'Ni!', 'Ni!', 'Ni!', 'Ni!', 'Ni!', 'Ni!', 'Ni!', 'Ni!', 'Ni!', 'Ni!', 'Ni!', 'Ni!', 'Ni!', 'Ni!', 'Ni!', 'Ni!', 'Ni!', 'Ni!', 'Ni!', 'Ni!', 'Ni!', 'Ni!', 'Ni!', 'Ni!', 'Ni!', 'Ni!', 'Ni!', 'Ni!', 'Ni!', 'Ni!', 'Ni!', 'Ni!', 'Ni!', 'Ni!', 'Ni!', 'Ni!', 'Ni!', 'Ni!', 'Ni!', 'Ni!', 'Ni!', 'Ni!', 'Ni!', 'Ni!', 'Ni!', 'Ni!', 'Ni!', 'Ni!', 'Ni!', 'Ni!', 'Ni!', 'Ni!', 'Ni!', 'Ni!', 'Ni!', 'Ni!', 'Ni!', 'Ni!', 'Ni!', 'Ni!', 'Ni!', 'Ni!', 'Ni!', 'Ni!', 'Ni!', 'Ni!', 'Ni!', 'Ni!', 'Ni!', 'Ni!', 'Ni!', 'Ni!', 'Ni!', 'Ni!', 'Ni!', 'Ni!', 'Ni!', 'Ni!', 'Ni!', 'Ni!', 'Ni!', 'Ni!', 'Ni!', 'Ni!', 'Ni!', 'Ni!', 'Ni!', 'Ni!', 'Ni!', 'Ni!', 'Ni!', 'Ni!', 'Ni!', 'Ni!', 'Ni!', 'Ni!', 'Ni!', 'Ni!', 'Ni!', 'Ni!', 'Ni!', 'Ni!', 'Ni!', 'Ni!', 'Ni!', 'Ni!', 'Ni!', 'Ni!', 'Ni!', 'Ni!', 'Ni!', 'Ni!', 'Ni!', 'Ni!', 'Ni!', 'Ni!', 'Ni!', 'Ni!', 'Ni!', 'Ni!', 'Ni!', 'Ni!', 'Ni!', 'Ni!', 'Ni!', 'Ni!', 'Ni!', 'Ni!', 'Ni!', 'Ni!', 'Ni!', 'Ni!', 'Ni!', 'Ni!', 'Ni!', 'Ni!', 'Ni!', 'Ni!', 'Ni!', 'Ni!', 'Ni!', 'Ni!', 'Ni!', 'Ni!', 'Ni!', 'Ni!', 'Ni!', 'Ni!', 'Ni!', 'Ni!', 'Ni!', 'Ni!', 'Ni!', 'Ni!', 'Ni!', 'Ni!', 'Ni!', 'Ni!', 'Ni!', 'Ni!', 'Ni!', 'Ni!', 'Ni!', 'Ni!', 'Ni!', 'Ni!', 'Ni!', 'Ni!', 'Ni!', 'Ni!', 'Ni!', 'Ni!', 'Ni!', 'Ni!', 'Ni!', 'Ni!', 'Ni!', 'Ni!', 'Ni!', 'Ni!', 'Ni!', 'Ni!', 'Ni!', 'Ni!', 'Ni!', 'Ni!', 'Ni!', 'Ni!', 'Ni!', 'Ni!', 'Ni!', 'Ni!', 'Ni!', 'Ni!', 'Ni!', 'Ni!', 'Ni!', 'Ni!', 'Ni!', 'Ni!', 'Ni!', 'Ni!', 'Ni!', 'Ni!', 'Ni!', 'Ni!', 'Ni!', 'Ni!', 'Ni!', 'Ni!', 'Ni!', 'Ni!', 'Ni!', 'Ni!', 'Ni!', 'Ni!', 'Ni!', 'Ni!', 'Ni!', 'Ni!', 'Ni!', 'Ni!', 'Ni!', 'Ni!', 'Ni!', 'Ni!', 'Ni!', 'Ni!', 'Ni!', 'Ni!', 'Ni!', 'Ni!', 'Ni!', 'Ni!', 'Ni!', 'Ni!', 'Ni!', 'Ni!', 'Ni!', 'Ni!', 'Ni!', 'Ni!', 'Ni!', 'Ni!', 'Ni!', 'Ni!', 'Ni!', 'Ni!', 'Ni!', 'Ni!', 'Ni!', 'Ni!', 'Ni!', 'Ni!', 'Ni!', 'Ni!', 'Ni!', 'Ni!', 'Ni!', 'Ni!', 'Ni!', 'Ni!', 'Ni!', 'Ni!', 'Ni!', 'Ni!', 'Ni!', 'Ni!', 'Ni!', 'Ni!', 'Ni!', 'Ni!', 'Ni!', 'Ni!', 'Ni!', 'Ni!', 'Ni!', 'Ni!', 'Ni!', 'Ni!', 'Ni!', 'Ni!', 'Ni!', 'Ni!', 'Ni!', 'Ni!', 'Ni!', 'Ni!', 'Ni!', 'Ni!', 'Ni!', 'Ni!', 'Ni!', 'Ni!', 'Ni!', 'Ni!', 'Ni!', 'Ni!', 'Ni!', 'Ni!', 'Ni!', 'Ni!', 'Ni!', 'Ni!', 'Ni!', 'Ni!', 'Ni!', 'Ni!', 'Ni!', 'Ni!', 'Ni!', 'Ni!', 'Ni!', 'Ni!', 'Ni!', 'Ni!', 'Ni!', 'Ni!', 'Ni!', 'Ni!', 'Ni!', 'Ni!', 'Ni!', 'Ni!', 'Ni!', 'Ni!', 'Ni!', 'Ni!', 'Ni!', 'Ni!', 'Ni!', 'Ni!', 'Ni!', 'Ni!', 'Ni!', 'Ni!', 'Ni!', 'Ni!', 'Ni!', 'Ni!', 'Ni!', 'Ni!', 'Ni!', 'Ni!', 'Ni!', 'Ni!', 'Ni!', 'Ni!', 'Ni!', 'Ni!', 'Ni!', 'Ni!', 'Ni!', 'Ni!', 'Ni!', 'Ni!', 'Ni!', 'Ni!', 'Ni!', 'Ni!', 'Ni!', 'Ni!', 'Ni!', 'Ni!', 'Ni!', 'Ni!', 'Ni!', 'Ni!', 'Ni!', 'Ni!', 'Ni!', 'Ni!', 'Ni!', 'Ni!', 'Ni!', 'Ni!', 'Ni!', 'Ni!', 'Ni!', 'Ni!', 'Ni!', 'Ni!', 'Ni!', 'Ni!', 'Ni!', 'Ni!', 'Ni!', 'Ni!', 'Ni!', 'Ni!', 'Ni!', 'Ni!', 'Ni!', 'Ni!', 'Ni!', 'Ni!', 'Ni!', 'Ni!', 'Ni!', 'Ni!', 'Ni!', 'Ni!', 'Ni!', 'Ni!', 'Ni!', 'Ni!', 'Ni!', 'Ni!', 'Ni!', 'Ni!', 'Ni!', 'Ni!', 'Ni!', 'Ni!', 'Ni!', 'Ni!', 'Ni!', 'Ni!', 'Ni!', 'Ni!', 'Ni!', 'Ni!', 'Ni!', 'Ni!', 'Ni!', 'Ni!', 'Ni!', 'Ni!', 'Ni!', 'Ni!', 'Ni!', 'Ni!', 'Ni!', 'Ni!', 'Ni!', 'Ni!', 'Ni!', 'Ni!', 'Ni!', 'Ni!', 'Ni!', 'Ni!', 'Ni!', 'Ni!', 'Ni!', 'Ni!', 'Ni!', 'Ni!', 'Ni!', 'Ni!', 'Ni!', 'Ni!', 'Ni!', 'Ni!', 'Ni!', 'Ni!', 'Ni!', 'Ni!', 'Ni!', 'Ni!', 'Ni!', 'Ni!', 'Ni!', 'Ni!', 'Ni!', 'Ni!', 'Ni!', 'Ni!', 'Ni!', 'Ni!', 'Ni!', 'Ni!', 'Ni!', 'Ni!', 'Ni!', 'Ni!', 'Ni!', 'Ni!', 'Ni!', 'Ni!', 'Ni!', 'Ni!', 'Ni!', 'Ni!', 'Ni!', 'Ni!', 'Ni!', 'Ni!', 'Ni!', 'Ni!', 'Ni!', 'Ni!', 'Ni!', 'Ni!', 'Ni!', 'Ni!', 'Ni!', 'Ni!', 'Ni!', 'Ni!', 'Ni!', 'Ni!', 'Ni!', 'Ni!', 'Ni!', 'Ni!', 'Ni!', 'Ni!', 'Ni!', 'Ni!', 'Ni!', 'Ni!', 'Ni!', 'Ni!', 'Ni!', 'Ni!', 'Ni!', 'Ni!', 'Ni!', 'Ni!', 'Ni!', 'Ni!', 'Ni!', 'Ni!', 'Ni!', 'Ni!', 'Ni!', 'Ni!', 'Ni!', 'Ni!', 'Ni!', 'Ni!', 'Ni!', 'Ni!', 'Ni!', 'Ni!', 'Ni!', 'Ni!', 'Ni!', 'Ni!', 'Ni!', 'Ni!', 'Ni!', 'Ni!', 'Ni!', 'Ni!', 'Ni!', 'Ni!', 'Ni!', 'Ni!', 'Ni!', 'Ni!', 'Ni!', 'Ni!', 'Ni!', 'Ni!', 'Ni!', 'Ni!', 'Ni!', 'Ni!', 'Ni!', 'Ni!', 'Ni!', 'Ni!', 'Ni!', 'Ni!', 'Ni!', 'Ni!', 'Ni!', 'Ni!', 'Ni!', 'Ni!', 'Ni!', 'Ni!', 'Ni!', 'Ni!', 'Ni!', 'Ni!', 'Ni!', 'Ni!', 'Ni!', 'Ni!', 'Ni!', 'Ni!', 'Ni!', 'Ni!', 'Ni!', 'Ni!', 'Ni!', 'Ni!', 'Ni!', 'Ni!', 'Ni!', 'Ni!', 'Ni!', 'Ni!', 'Ni!', 'Ni!', 'Ni!', 'Ni!', 'Ni!', 'Ni!', 'Ni!', 'Ni!', 'Ni!', 'Ni!', 'Ni!', 'Ni!', 'Ni!', 'Ni!', 'Ni!', 'Ni!', 'Ni!', 'Ni!', 'Ni!', 'Ni!', 'Ni!', 'Ni!', 'Ni!', 'Ni!', 'Ni!', 'Ni!', 'Ni!', 'Ni!', 'Ni!', 'Ni!', 'Ni!', 'Ni!', 'Ni!', 'Ni!', 'Ni!', 'Ni!', 'Ni!', 'Ni!', 'Ni!', 'Ni!', 'Ni!', 'Ni!', 'Ni!', 'Ni!', 'Ni!', 'Ni!', 'Ni!', 'Ni!', 'Ni!', 'Ni!']\n"
     ]
    }
   ],
   "source": [
    "# Asterisk/multiplication repeats\n",
    "# Example list * n\n",
    "days = [\"Ni!\"] * 1024\n",
    "print(days)"
   ]
  },
  {
   "cell_type": "code",
   "execution_count": 44,
   "metadata": {
    "collapsed": false
   },
   "outputs": [
    {
     "data": {
      "text/plain": [
       "['Graham', 'Terry', 'Terry', 'Michael', 'Eric', 'John']"
      ]
     },
     "execution_count": 44,
     "metadata": {},
     "output_type": "execute_result"
    }
   ],
   "source": [
    "the_pythons = [\"Graham\", \"Terry\", \"Terry\"]\n",
    "# Same as the_pythons = the_pythons + [\"Michael\", \"Eric\", \"John\"]\n",
    "the_pythons +=  [\"Michael\", \"Eric\", \"John\"]\n",
    "\n",
    "the_pythons"
   ]
  },
  {
   "cell_type": "markdown",
   "metadata": {},
   "source": [
    "# List Slicing\n",
    "\n",
    "* Slicing selects a range of elements from a sequence"
   ]
  },
  {
   "cell_type": "code",
   "execution_count": 22,
   "metadata": {
    "collapsed": false
   },
   "outputs": [
    {
     "data": {
      "text/plain": [
       "['Tuesday', 'Wednesday', 'Thursday']"
      ]
     },
     "execution_count": 22,
     "metadata": {},
     "output_type": "execute_result"
    }
   ],
   "source": [
    "days = [\"Sunday\", \"Monday\", \"Tuesday\", \"Wednesday\", \"Thursday\", \"Friday\", \"Saturday\"]\n",
    "mid_days = days[2:5]\n",
    "\n",
    "mid_days"
   ]
  },
  {
   "cell_type": "markdown",
   "metadata": {},
   "source": [
    "* To get a better sense of how slicing works, play around with it in iPython Notebook or interactive (command line) session"
   ]
  },
  {
   "cell_type": "markdown",
   "metadata": {},
   "source": [
    "# in Operator\n",
    "\n",
    "* Tests for presence of item in a list\n",
    "* Returns True or False"
   ]
  },
  {
   "cell_type": "code",
   "execution_count": 45,
   "metadata": {
    "collapsed": false
   },
   "outputs": [
    {
     "name": "stdout",
     "output_type": "stream",
     "text": [
      "Was in the Pythons? Ringo\n",
      "Ringo was not in Monty Python\n"
     ]
    }
   ],
   "source": [
    "# This is a global constant (read only)\n",
    "# This is OK\n",
    "# Uppercase naming is a convention, not enforced by compiler\n",
    "THE_PYTHONS = [\"Graham\", \"Terry\",  \"Michael\", \"Eric\", \"Terry\", \"John\"]\n",
    "# global variables are to be used with care\n",
    "# use local variables instead\n",
    "# use a top-level function, e.g. main\n",
    "\n",
    "def was_a_python(name):\n",
    "    LOCAL_CONSTANT = 0.13\n",
    "    \n",
    "    if name in THE_PYTHONS:\n",
    "        print(name + \" was in Monty Python\")\n",
    "    else:\n",
    "        print(name + \" was not in Monty Python\")\n",
    "\n",
    "def main():\n",
    "    name = raw_input(\"Was in the Pythons? \")\n",
    "    was_a_python(name)\n",
    "\n",
    "main()"
   ]
  },
  {
   "cell_type": "markdown",
   "metadata": {},
   "source": [
    "# List Methods\n",
    "\n",
    "* A method is a function that is attached to an object\n",
    "\n",
    "![](images/list_methods.png)\n",
    "\n",
    "Other useful list methods are:\n",
    "* min\n",
    "* max\n",
    "\n",
    "For a full list, see the [Python documentation](https://docs.python.org/2/tutorial/datastructures.html)."
   ]
  },
  {
   "cell_type": "markdown",
   "metadata": {},
   "source": [
    "# Adding to a List"
   ]
  },
  {
   "cell_type": "code",
   "execution_count": 54,
   "metadata": {
    "collapsed": false
   },
   "outputs": [
    {
     "name": "stdout",
     "output_type": "stream",
     "text": [
      "Oops\n"
     ]
    }
   ],
   "source": [
    "# Using indexing\n",
    "the_pythons = [\"Graham\", \"Terry\",  \"Michael\", \"Eric\", \"Terry\", \"John\"]\n",
    "\n",
    "try:\n",
    "    the_pythons[-7] = \"Ringo\"\n",
    "except IndexError:\n",
    "#    raise IndexError\n",
    "    print(\"Oops\")\n",
    "else:\n",
    "    print(the_pythons)"
   ]
  },
  {
   "cell_type": "code",
   "execution_count": 55,
   "metadata": {
    "collapsed": false
   },
   "outputs": [
    {
     "data": {
      "text/plain": [
       "['Graham', 'Terry', 'Michael', 'Eric', 'Terry', 'John', 'Ringo']"
      ]
     },
     "execution_count": 55,
     "metadata": {},
     "output_type": "execute_result"
    }
   ],
   "source": [
    "# Using append\n",
    "the_pythons = [\"Graham\", \"Terry\",  \"Michael\", \"Eric\", \"Terry\", \"John\"]\n",
    "\n",
    "the_pythons.append(\"Ringo\")\n",
    "the_pythons"
   ]
  },
  {
   "cell_type": "code",
   "execution_count": 56,
   "metadata": {
    "collapsed": false
   },
   "outputs": [
    {
     "data": {
      "text/plain": [
       "['Graham', 'Terry', 'Ringo', 'Michael', 'Eric', 'Terry', 'John']"
      ]
     },
     "execution_count": 56,
     "metadata": {},
     "output_type": "execute_result"
    }
   ],
   "source": [
    "# Using insert\n",
    "the_pythons = [\"Graham\", \"Terry\",  \"Michael\", \"Eric\", \"Terry\", \"John\"]\n",
    "\n",
    "# not the same as the_pythons[2] = \"Ringo\" !\n",
    "the_pythons.insert(2, \"Ringo\")\n",
    "the_pythons"
   ]
  },
  {
   "cell_type": "markdown",
   "metadata": {},
   "source": [
    "# Deleting"
   ]
  },
  {
   "cell_type": "code",
   "execution_count": 60,
   "metadata": {
    "collapsed": false
   },
   "outputs": [
    {
     "data": {
      "text/plain": [
       "['Graham', 'Michael', 'Eric', 'John']"
      ]
     },
     "execution_count": 60,
     "metadata": {},
     "output_type": "execute_result"
    }
   ],
   "source": [
    "# Removes first occurence of a value\n",
    "the_pythons = [\"Graham\", \"Terry\",  \"Michael\", \"Eric\", \"Terry\", \"John\"]\n",
    "\n",
    "the_pythons.remove(\"Terry\")\n",
    "the_pythons.remove(\"Terry\")\n",
    "if \"Terry\" in the_pythons:\n",
    "    the_pythons.remove(\"Terry\")    \n",
    "    \n",
    "the_pythons"
   ]
  },
  {
   "cell_type": "code",
   "execution_count": 61,
   "metadata": {
    "collapsed": false
   },
   "outputs": [
    {
     "data": {
      "text/plain": [
       "[0, 1, 3, 4]"
      ]
     },
     "execution_count": 61,
     "metadata": {},
     "output_type": "execute_result"
    }
   ],
   "source": [
    "# Deletes item at index\n",
    "\n",
    "my_list = list(range(5))\n",
    "del my_list[2]\n",
    "\n",
    "my_list"
   ]
  },
  {
   "cell_type": "markdown",
   "metadata": {},
   "source": [
    "# Shallow vs Deep Copying\n",
    "\n",
    "* To make a copy of a list, the list's elements must be copied"
   ]
  },
  {
   "cell_type": "code",
   "execution_count": 62,
   "metadata": {
    "collapsed": false
   },
   "outputs": [
    {
     "name": "stdout",
     "output_type": "stream",
     "text": [
      "['Graham', 'Terry', 'Ringo', 'Michael', 'Eric', 'Terry', 'John']\n",
      "['Graham', 'Terry', 'Ringo', 'Michael', 'Eric', 'Terry', 'John']\n"
     ]
    }
   ],
   "source": [
    "# Shallow copying\n",
    "the_pythons = [\"Graham\", \"Terry\",  \"Michael\", \"Eric\", \"Terry\", \"John\"]\n",
    "\n",
    "more_pythons = the_pythons\n",
    "\n",
    "the_pythons.insert(2, \"Ringo\")\n",
    "\n",
    "print(the_pythons)\n",
    "print(more_pythons)"
   ]
  },
  {
   "cell_type": "code",
   "execution_count": 63,
   "metadata": {
    "collapsed": false
   },
   "outputs": [
    {
     "data": {
      "text/plain": [
       "['Graham', 'Terry', 'Michael', 'Eric', 'Terry', 'John']"
      ]
     },
     "execution_count": 63,
     "metadata": {},
     "output_type": "execute_result"
    }
   ],
   "source": [
    "# Deep copying 1\n",
    "the_pythons = [\"Graham\", \"Terry\",  \"Michael\", \"Eric\", \"Terry\", \"John\"]\n",
    "\n",
    "# Using append\n",
    "more_pythons = []\n",
    "\n",
    "for comedian in the_pythons:\n",
    "    more_pythons.append(comedian)\n",
    "\n",
    "more_pythons"
   ]
  },
  {
   "cell_type": "code",
   "execution_count": 65,
   "metadata": {
    "collapsed": false
   },
   "outputs": [
    {
     "data": {
      "text/plain": [
       "['Graham', 'Terry', 'Michael', 'Eric', 'Terry', 'John']"
      ]
     },
     "execution_count": 65,
     "metadata": {},
     "output_type": "execute_result"
    }
   ],
   "source": [
    "# Deep copying 2\n",
    "the_pythons = [\"Graham\", \"Terry\",  \"Michael\", \"Eric\", \"Terry\", \"John\"]\n",
    "\n",
    "# Using arithmetic\n",
    "more_pythons = [] + the_pythons\n",
    "\n",
    "more_pythons"
   ]
  },
  {
   "cell_type": "code",
   "execution_count": null,
   "metadata": {
    "collapsed": true
   },
   "outputs": [],
   "source": [
    "# Initializing variables\n",
    "# Creates a variable AND tells the interpreter the type\n",
    "\n",
    "variable1 = \"\"\n",
    "variable2 = 0 # a bit hacky\n",
    "variable3 = 0.0 # a bit hacky\n",
    "variable4 = []"
   ]
  },
  {
   "cell_type": "markdown",
   "metadata": {},
   "source": [
    "# Two Dimensional Lists\n",
    "\n",
    "* A list that contains lists\n",
    "* Sometimes called an matrix\n",
    "\n",
    "![](images/list_array.png)"
   ]
  },
  {
   "cell_type": "code",
   "execution_count": 75,
   "metadata": {
    "collapsed": false
   },
   "outputs": [
    {
     "data": {
      "text/plain": [
       "'Tyler'"
      ]
     },
     "execution_count": 75,
     "metadata": {},
     "output_type": "execute_result"
    }
   ],
   "source": [
    "partners = [[\"Alyha\", \"Jeanne-Marie\"], \n",
    "            [\"Billal\", \"Pranjal\"], \n",
    "            [\"Dusan\", \"Piaoyao\"], \n",
    "            [\"Isabelle\", \"Tyler\"]]\n",
    "\n",
    "# long way\n",
    "pair = partners[0]\n",
    "pair\n",
    "pair[0]\n",
    "\n",
    "# short way\n",
    "partners[3][1]\n"
   ]
  },
  {
   "cell_type": "code",
   "execution_count": 74,
   "metadata": {
    "collapsed": false
   },
   "outputs": [
    {
     "data": {
      "text/plain": [
       "3"
      ]
     },
     "execution_count": 74,
     "metadata": {},
     "output_type": "execute_result"
    }
   ],
   "source": [
    "crazy = [0, [1, [2, 3]]]\n",
    "crazy[1][1][1]"
   ]
  },
  {
   "cell_type": "markdown",
   "metadata": {},
   "source": [
    "![](images/list_indices.png)"
   ]
  },
  {
   "cell_type": "code",
   "execution_count": 6,
   "metadata": {
    "collapsed": false
   },
   "outputs": [
    {
     "name": "stdout",
     "output_type": "stream",
     "text": [
      "Alyha\n",
      "Jeanne-Marie\n",
      "Billal\n",
      "Pranjal\n",
      "Dusan\n",
      "Piaoyao\n",
      "Isabelle\n",
      "Tyler\n"
     ]
    }
   ],
   "source": [
    "# Iterating over a two-dimensional list\n",
    "\n",
    "partners = [[\"Alyha\", \"Jeanne-Marie\"], \n",
    "            [\"Billal\", \"Pranjal\"], \n",
    "            [\"Dusan\", \"Piaoyao\"], \n",
    "            [\"Isabelle\", \"Tyler\"]]\n",
    "\n",
    "for team in partners:\n",
    "    for name in team:\n",
    "        print(name)"
   ]
  },
  {
   "cell_type": "code",
   "execution_count": 83,
   "metadata": {
    "collapsed": false
   },
   "outputs": [
    {
     "name": "stdout",
     "output_type": "stream",
     "text": [
      "Team 1\n",
      "\tPartner 1: Alyha\n",
      "\tPartner 2: Jeanne-Marie\n",
      "Team 2\n",
      "\tPartner 1: Billal\n",
      "\tPartner 2: Pranjal\n",
      "Team 3\n",
      "\tPartner 1: Dusan\n",
      "\tPartner 2: Piaoyao\n",
      "Team 4\n",
      "\tPartner 1: Isabelle\n",
      "\tPartner 2: Tyler\n"
     ]
    }
   ],
   "source": [
    "# Iterating over a two-dimensional list\n",
    "\n",
    "partners = [[\"Alyha\", \"Jeanne-Marie\"], \n",
    "            [\"Billal\", \"Pranjal\"], \n",
    "            [\"Dusan\", \"Piaoyao\"], \n",
    "            [\"Isabelle\", \"Tyler\"]]\n",
    "\n",
    "team_number = 1\n",
    "for team in partners:\n",
    "    print(\"Team \" + str(team_number))\n",
    "    name_number = 1\n",
    "    for name in team:\n",
    "        print(\"\\tPartner \" + str(name_number) +\": \" + name)\n",
    "        name_number += 1\n",
    "    team_number += 1\n"
   ]
  },
  {
   "cell_type": "code",
   "execution_count": 4,
   "metadata": {
    "collapsed": false
   },
   "outputs": [
    {
     "name": "stdout",
     "output_type": "stream",
     "text": [
      "Team 1\n",
      "\tPartner: 1 Alyha\n",
      "\tPartner: 2 Jeanne-Marie\n",
      "Team 2\n",
      "\tPartner: 1 Billal\n",
      "\tPartner: 2 Pranjal\n",
      "Team 3\n",
      "\tPartner: 1 Dusan\n",
      "\tPartner: 2 Piaoyao\n",
      "Team 4\n",
      "\tPartner: 1 Isabelle\n",
      "\tPartner: 2 Tyler\n"
     ]
    }
   ],
   "source": [
    "# Iterating over a two-dimensional list\n",
    "\n",
    "partners = [[\"Alyha\", \"Jeanne-Marie\"], \n",
    "            [\"Billal\", \"Pranjal\"], \n",
    "            [\"Dusan\", \"Piaoyao\"], \n",
    "            [\"Isabelle\", \"Tyler\"]]\n",
    "\n",
    "partner_index = 0\n",
    "\n",
    "while partner_index < len(partners):\n",
    "    print(\"Team \" + str(partner_index + 1))\n",
    "\n",
    "    person_index = 0\n",
    "    while person_index < len(partners[partner_index]):\n",
    "        print(\"\\tPartner: \" + str(person_index + 1) + \" \" + partners[partner_index][person_index])\n",
    "        person_index += 1\n",
    "        \n",
    "    partner_index += 1"
   ]
  },
  {
   "cell_type": "markdown",
   "metadata": {},
   "source": [
    "Team 1\n",
    "     Partner 1: Alyha\n",
    "     Partner 2: Jeanne-Marie"
   ]
  },
  {
   "cell_type": "markdown",
   "metadata": {},
   "source": [
    "# Programming Style\n",
    "\n",
    "* PEP-8\n",
    "* docstrings\n",
    "* Document attributes"
   ]
  },
  {
   "cell_type": "markdown",
   "metadata": {},
   "source": [
    "## What is programming style?\n",
    "\n",
    "* A set of guidelines for writing computer code\n",
    "* More about what people see than what the interpreter sees\n",
    "  * Indentation, spacing, identifier names, line length, comments\n",
    "* Each programming language has it's own style\n",
    "\n",
    "## Why programming style?\n",
    "\n",
    "* Makes code easier to read and understand\n",
    "* Increases portability through consistency\n",
    "* Aesthetics\n",
    "\n",
    "## PEP-8\n",
    "\n",
    "* The Python programming style is called [PEP-8](https://www.python.org/dev/peps/pep-0008/)\n",
    "* PEP is Python Enhanced Proposal\n",
    "* There is a PEP-8 checker built in to PyCharm\n",
    "* Non-conformance to PEP-8 is indicated with a gray squiggly line\n"
   ]
  },
  {
   "cell_type": "markdown",
   "metadata": {},
   "source": [
    "# docstrings\n",
    "\n",
    "* A special kind of comment\n",
    "* Used to generate documentation for the code\n",
    "* Returned by help() function\n",
    "* Python standard for docstrings is [PEP-257](https://www.python.org/dev/peps/pep-0257/)\n",
    "* A comment delimited by triple double quotation marks (\"\"\") \n",
    "* Modules, functions, classes, and methods can have docstrings\n",
    "  * Appears as first line in module (file), function, etc.\n",
    "* Describe \"what,\" not \"how\" "
   ]
  },
  {
   "cell_type": "code",
   "execution_count": 5,
   "metadata": {
    "collapsed": false
   },
   "outputs": [
    {
     "name": "stdout",
     "output_type": "stream",
     "text": [
      "The \"print\" statement\n",
      "*********************\n",
      "\n",
      "   print_stmt ::= \"print\" ([expression (\",\" expression)* [\",\"]]\n",
      "                  | \">>\" expression [(\",\" expression)+ [\",\"]])\n",
      "\n",
      "\"print\" evaluates each expression in turn and writes the resulting\n",
      "object to standard output (see below).  If an object is not a string,\n",
      "it is first converted to a string using the rules for string\n",
      "conversions.  The (resulting or original) string is then written.  A\n",
      "space is written before each object is (converted and) written, unless\n",
      "the output system believes it is positioned at the beginning of a\n",
      "line.  This is the case (1) when no characters have yet been written\n",
      "to standard output, (2) when the last character written to standard\n",
      "output is a whitespace character except \"' '\", or (3) when the last\n",
      "write operation on standard output was not a \"print\" statement. (In\n",
      "some cases it may be functional to write an empty string to standard\n",
      "output for this reason.)\n",
      "\n",
      "Note: Objects which act like file objects but which are not the\n",
      "  built-in file objects often do not properly emulate this aspect of\n",
      "  the file object's behavior, so it is best not to rely on this.\n",
      "\n",
      "A \"'\\n'\" character is written at the end, unless the \"print\" statement\n",
      "ends with a comma.  This is the only action if the statement contains\n",
      "just the keyword \"print\".\n",
      "\n",
      "Standard output is defined as the file object named \"stdout\" in the\n",
      "built-in module \"sys\".  If no such object exists, or if it does not\n",
      "have a \"write()\" method, a \"RuntimeError\" exception is raised.\n",
      "\n",
      "\"print\" also has an extended form, defined by the second portion of\n",
      "the syntax described above. This form is sometimes referred to as\n",
      "\"\"print\" chevron.\" In this form, the first expression after the \">>\"\n",
      "must evaluate to a \"file-like\" object, specifically an object that has\n",
      "a \"write()\" method as described above.  With this extended form, the\n",
      "subsequent expressions are printed to this file object.  If the first\n",
      "expression evaluates to \"None\", then \"sys.stdout\" is used as the file\n",
      "for output.\n",
      "\n"
     ]
    }
   ],
   "source": [
    "help(\"print\")"
   ]
  },
  {
   "cell_type": "markdown",
   "metadata": {},
   "source": [
    "## What goes in a docstring?\n",
    "\n",
    "* Written like normal English, e.g. begin with a capital and end with a period.\n",
    "* The first line should be a short description (summary)\n",
    "* Don't write the name of the object\n",
    "* If there are more lines, use a blank line to visually separate the rest of the description.\n",
    "* Subsequent lines should be one or more paragraphs describing the object's calling conventions, side effects, etc.\n",
    "* There are some examples in the initial code for Assignment 2"
   ]
  },
  {
   "cell_type": "markdown",
   "metadata": {},
   "source": [
    "# Document Header\n",
    "\n",
    "* Provides metadata for the module (file)\n",
    "* Authorship information\n",
    "* No standard or convention\n",
    "  * Some consider this old fashioned\n",
    "\n",
    "Note: identifiers with leading and trailing double underscores are considered \"magic\" or special"
   ]
  },
  {
   "cell_type": "code",
   "execution_count": null,
   "metadata": {
    "collapsed": true
   },
   "outputs": [],
   "source": [
    "__author__ = \"Susan Sim\"\n",
    "__email__ = \"ses@drsusansim.org\"\n",
    "__copyright__ = \"2015 Susan Sim\"\n",
    "__license__ = \"MIT License\""
   ]
  },
  {
   "cell_type": "markdown",
   "metadata": {},
   "source": [
    "Other attributes\n",
    "\n",
    "```\n",
    "__credits__\n",
    "__maintainer__\n",
    "__status__\n",
    "__deprecated__\n",
    "__version__\n",
    "```"
   ]
  },
  {
   "cell_type": "markdown",
   "metadata": {},
   "source": [
    "* PyCharm can put these in for you\n",
    "* Edit document template in Preferences/Settings\n",
    "\n",
    "![](images/pycharm_template.png)"
   ]
  },
  {
   "cell_type": "markdown",
   "metadata": {},
   "source": [
    "# Review\n",
    "\n",
    "* Interpreters\n",
    "* Rules of Programming\n",
    "* Variables\n",
    "* Data Types\n",
    "  * Mutability\n",
    "* Input, processing, and output\n",
    "  * Keyboard input\n",
    "  * Screen output\n",
    "* Decision structures (if/elif/else)\n",
    "* Boolean expressions and operators\n",
    "* Reptition structures\n",
    "  * Condition controlled (while)\n",
    "  * Count controlled (for)\n",
    "    * range function\n",
    "* Functions and methods\n",
    "* Strings\n",
    "  * Indexing\n",
    "  * Slicing\n",
    "* Exceptions\n",
    "  * try/except\n",
    "  * raise\n",
    "* Lists\n",
    "* Programming Style\n",
    "* Testing\n"
   ]
  },
  {
   "cell_type": "markdown",
   "metadata": {},
   "source": [
    "# Lab Exercises\n",
    "\n",
    "Write a function that takes a list of numbers as input and returns the average of those numbers.\n",
    "\n",
    "Write a py.test for the function above.\n",
    "\n",
    "Configure File Template in Pycharm"
   ]
  },
  {
   "cell_type": "code",
   "execution_count": null,
   "metadata": {
    "collapsed": true
   },
   "outputs": [],
   "source": []
  }
 ],
 "metadata": {
  "kernelspec": {
   "display_name": "Python 2",
   "language": "python",
   "name": "python2"
  },
  "language_info": {
   "codemirror_mode": {
    "name": "ipython",
    "version": 2
   },
   "file_extension": ".py",
   "mimetype": "text/x-python",
   "name": "python",
   "nbconvert_exporter": "python",
   "pygments_lexer": "ipython2",
   "version": "2.7.10"
  }
 },
 "nbformat": 4,
 "nbformat_minor": 0
}
