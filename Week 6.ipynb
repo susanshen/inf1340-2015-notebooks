{
 "cells": [
  {
   "cell_type": "markdown",
   "metadata": {
    "collapsed": true
   },
   "source": [
    "# Overview\n",
    "\n",
    "* Hour 1\n",
    "  * Articulation Work\n",
    "  * Lists\n",
    "* Hour 2\n",
    "  * Programming Style\n",
    "  * Review\n",
    "* Hour 3\n",
    "  * Work time"
   ]
  },
  {
   "cell_type": "markdown",
   "metadata": {},
   "source": [
    "# Articulation Work\n",
    "\n",
    "## Assignment 1\n",
    "\n",
    "* Done grading\n",
    "* Will be returned soon\n",
    "\n",
    "## New Lab Procedure\n",
    "\n",
    "* Release the lab in advance\n",
    "  * In theory, the night before\n",
    "  * In practice, could be the morning of\n",
    "* Graded during third hour of lecture\n",
    "* Can be graded any time before the end of the term\n",
    "* Grading policy applies retroactively"
   ]
  },
  {
   "cell_type": "markdown",
   "metadata": {},
   "source": [
    "# Lists\n",
    "\n",
    "* A list is an object that contains multiple data items\n",
    "* Lists are mutable\n",
    "* Lists can be indexed and sliced\n",
    "* Lists have methods\n",
    "\n",
    "## Syntax\n",
    "* Square brackets\n",
    "* Commas as separators"
   ]
  },
  {
   "cell_type": "code",
   "execution_count": 15,
   "metadata": {
    "collapsed": false
   },
   "outputs": [
    {
     "name": "stdout",
     "output_type": "stream",
     "text": [
      "[1, 2, 4, 8, 16, 32]\n"
     ]
    }
   ],
   "source": [
    "number_list = [1, 2, 4, 8, 16, 32]\n",
    "the_pythons = [\"Graham\", \"Terry\",  \"Michael\", \"Eric\", \"Terry\", \"John\"]\n",
    "mixed = [1, 'Terry', 4]\n",
    "\n",
    "print (number_list)"
   ]
  },
  {
   "cell_type": "markdown",
   "metadata": {},
   "source": [
    "# Indexing"
   ]
  },
  {
   "cell_type": "code",
   "execution_count": null,
   "metadata": {
    "collapsed": true
   },
   "outputs": [],
   "source": [
    "my_list = [10, 20, 30, 40]\n",
    "\n",
    "my_list[0]"
   ]
  },
  {
   "cell_type": "markdown",
   "metadata": {},
   "source": [
    "# Iterating over a List"
   ]
  },
  {
   "cell_type": "code",
   "execution_count": null,
   "metadata": {
    "collapsed": true
   },
   "outputs": [],
   "source": [
    "# Using a while loop\n",
    "\n",
    "the_pythons = [\"Graham\", \"Terry\",  \"Michael\", \"Eric\", \"Terry\", \"John\"]\n",
    "\n",
    "index = 0\n",
    "while index < len(the_pythons):\n",
    "    print(the_pythons[index])\n",
    "    index += 1\n"
   ]
  },
  {
   "cell_type": "code",
   "execution_count": null,
   "metadata": {
    "collapsed": true
   },
   "outputs": [],
   "source": [
    "# Using a for loop\n",
    "\n",
    "the_pythons = [\"Graham\", \"Terry\",  \"Michael\", \"Eric\", \"Terry\", \"John\"]\n",
    "for item in the_pythons:\n",
    "    print(item)\n"
   ]
  },
  {
   "cell_type": "markdown",
   "metadata": {},
   "source": [
    "# Lists are Mutable\n",
    "\n",
    "* They can be changed after creation\n"
   ]
  },
  {
   "cell_type": "code",
   "execution_count": 16,
   "metadata": {
    "collapsed": false
   },
   "outputs": [
    {
     "name": "stdout",
     "output_type": "stream",
     "text": [
      "[10, 20, 30, 40]\n",
      "['Graham', 20, 30, 40]\n"
     ]
    }
   ],
   "source": [
    "my_list = [10, 20, 30, 40]\n",
    "print(my_list)\n",
    "my_list[0] = \"Graham\"\n",
    "print(my_list)"
   ]
  },
  {
   "cell_type": "markdown",
   "metadata": {},
   "source": [
    "# List 'Arithmetic'"
   ]
  },
  {
   "cell_type": "code",
   "execution_count": 18,
   "metadata": {
    "collapsed": false
   },
   "outputs": [
    {
     "data": {
      "text/plain": [
       "[0, 1, 2, 3, 4, 5, 6, 7, 8, 9]"
      ]
     },
     "execution_count": 18,
     "metadata": {},
     "output_type": "execute_result"
    }
   ],
   "source": [
    "# Plus sign concatenates two lists\n",
    "list1 = list(range(5))\n",
    "list2 = list(range(5,10))\n",
    "list3 = list1 + list2\n",
    "\n",
    "list3"
   ]
  },
  {
   "cell_type": "code",
   "execution_count": 19,
   "metadata": {
    "collapsed": false
   },
   "outputs": [
    {
     "name": "stdout",
     "output_type": "stream",
     "text": [
      "[0, 0, 0, 0, 0]\n"
     ]
    }
   ],
   "source": [
    "# Asterisk/multiplication repeats\n",
    "# Example list * n\n",
    "days = [0] * 5\n",
    "print(days)"
   ]
  },
  {
   "cell_type": "code",
   "execution_count": 20,
   "metadata": {
    "collapsed": false
   },
   "outputs": [
    {
     "data": {
      "text/plain": [
       "['Graham', 'Terry', 'Terry', 'Michael', 'Eric', 'John']"
      ]
     },
     "execution_count": 20,
     "metadata": {},
     "output_type": "execute_result"
    }
   ],
   "source": [
    "the_pythons = [\"Graham\", \"Terry\", \"Terry\"]\n",
    "the_pythons += [\"Michael\", \"Eric\", \"John\"]\n",
    "\n",
    "the_pythons"
   ]
  },
  {
   "cell_type": "markdown",
   "metadata": {},
   "source": [
    "# List Slicing\n",
    "\n",
    "* Slicing selects a range of elements from a sequence"
   ]
  },
  {
   "cell_type": "code",
   "execution_count": 22,
   "metadata": {
    "collapsed": false
   },
   "outputs": [
    {
     "data": {
      "text/plain": [
       "['Tuesday', 'Wednesday', 'Thursday']"
      ]
     },
     "execution_count": 22,
     "metadata": {},
     "output_type": "execute_result"
    }
   ],
   "source": [
    "days = [\"Sunday\", \"Monday\", \"Tuesday\", \"Wednesday\", \"Thursday\", \"Friday\", \"Saturday\"]\n",
    "mid_days = days[2:5]\n",
    "\n",
    "mid_days"
   ]
  },
  {
   "cell_type": "markdown",
   "metadata": {},
   "source": [
    "* To get a better sense of how slicing works, play around with it in iPython Notebook or interactive (command line) session"
   ]
  },
  {
   "cell_type": "markdown",
   "metadata": {},
   "source": [
    "# in Operator\n",
    "\n",
    "* Tests for presence of item in a list\n",
    "* Returns True or False"
   ]
  },
  {
   "cell_type": "code",
   "execution_count": 24,
   "metadata": {
    "collapsed": false
   },
   "outputs": [
    {
     "name": "stdout",
     "output_type": "stream",
     "text": [
      "Ringo was not in Monty Python\n",
      "Michael was in Monty Python\n"
     ]
    }
   ],
   "source": [
    "THE_PYTHONS = [\"Graham\", \"Terry\",  \"Michael\", \"Eric\", \"Terry\", \"John\"]\n",
    "\n",
    "def was_a_python(name):\n",
    "    if name in THE_PYTHONS:\n",
    "        print(name + \" was in Monty Python\")\n",
    "    else:\n",
    "        print(name + \" was not in Monty Python\")\n",
    "\n",
    "def main():    \n",
    "    was_a_python(\"Ringo\")\n",
    "    was_a_python(\"Michael\")\n",
    "\n",
    "main()"
   ]
  },
  {
   "cell_type": "markdown",
   "metadata": {},
   "source": [
    "# List Methods\n",
    "\n",
    "* A method is a function that is attached to an object\n",
    "\n",
    "![](images/list_methods.png)\n",
    "\n",
    "Other useful list methods are:\n",
    "* min\n",
    "* max\n",
    "\n",
    "For a full list, see the [Python documentation](https://docs.python.org/2/tutorial/datastructures.html)."
   ]
  },
  {
   "cell_type": "markdown",
   "metadata": {},
   "source": [
    "# Adding to a List"
   ]
  },
  {
   "cell_type": "code",
   "execution_count": null,
   "metadata": {
    "collapsed": false
   },
   "outputs": [],
   "source": [
    "# Using indexing\n",
    "the_pythons = [\"Graham\", \"Terry\",  \"Michael\", \"Eric\", \"Terry\", \"John\"]\n",
    "\n",
    "the_pythons[6] = \"Ringo\""
   ]
  },
  {
   "cell_type": "code",
   "execution_count": 26,
   "metadata": {
    "collapsed": false
   },
   "outputs": [
    {
     "data": {
      "text/plain": [
       "['Graham', 'Terry', 'Terry', 'Michael', 'Eric', 'John', 'Ringo']"
      ]
     },
     "execution_count": 26,
     "metadata": {},
     "output_type": "execute_result"
    }
   ],
   "source": [
    "# Using append\n",
    "the_pythons = [\"Graham\", \"Terry\",  \"Michael\", \"Eric\", \"Terry\", \"John\"]\n",
    "\n",
    "the_pythons.append(\"Ringo\")\n",
    "the_pythons"
   ]
  },
  {
   "cell_type": "code",
   "execution_count": null,
   "metadata": {
    "collapsed": true
   },
   "outputs": [],
   "source": [
    "# Using insert\n",
    "the_pythons = [\"Graham\", \"Terry\",  \"Michael\", \"Eric\", \"Terry\", \"John\"]\n",
    "\n",
    "the_pythons.insert(2, \"Ringo\")\n",
    "the_pythons"
   ]
  },
  {
   "cell_type": "markdown",
   "metadata": {},
   "source": [
    "# Deleting"
   ]
  },
  {
   "cell_type": "code",
   "execution_count": null,
   "metadata": {
    "collapsed": true
   },
   "outputs": [],
   "source": [
    "# Removes first occurence of a value\n",
    "the_pythons = [\"Graham\", \"Terry\",  \"Michael\", \"Eric\", \"Terry\", \"John\"]\n",
    "\n",
    "the_pythons.remove(\"Terry\")\n",
    "the_pythons"
   ]
  },
  {
   "cell_type": "code",
   "execution_count": null,
   "metadata": {
    "collapsed": true
   },
   "outputs": [],
   "source": [
    "# Deletes item at index\n",
    "\n",
    "my_list = list(range(5))\n",
    "del my_list[2]\n",
    "\n",
    "my_list"
   ]
  },
  {
   "cell_type": "markdown",
   "metadata": {},
   "source": [
    "# Shallow vs Deep Copying\n",
    "\n",
    "* To make a copy of a list, the list's elements must be copied"
   ]
  },
  {
   "cell_type": "code",
   "execution_count": null,
   "metadata": {
    "collapsed": true
   },
   "outputs": [],
   "source": [
    "# Shallow copying\n",
    "the_pythons = [\"Graham\", \"Terry\",  \"Michael\", \"Eric\", \"Terry\", \"John\"]\n",
    "\n",
    "more_pythons = the_pythons\n",
    "\n",
    "the_pythons.insert(2, \"Ringo\")\n",
    "\n",
    "print(the_pythons)\n",
    "print(more_pythons)"
   ]
  },
  {
   "cell_type": "code",
   "execution_count": null,
   "metadata": {
    "collapsed": true
   },
   "outputs": [],
   "source": [
    "# Deep copying 1\n",
    "the_pythons = [\"Graham\", \"Terry\",  \"Michael\", \"Eric\", \"Terry\", \"John\"]\n",
    "\n",
    "# Using append"
   ]
  },
  {
   "cell_type": "code",
   "execution_count": null,
   "metadata": {
    "collapsed": true
   },
   "outputs": [],
   "source": [
    "# Deep copying 2\n",
    "the_pythons = [\"Graham\", \"Terry\",  \"Michael\", \"Eric\", \"Terry\", \"John\"]\n",
    "\n",
    "# Using arithmetic"
   ]
  },
  {
   "cell_type": "markdown",
   "metadata": {},
   "source": [
    "# Two Dimensional Lists\n",
    "\n",
    "* A list that contains lists\n",
    "* Sometimes called an matrix\n",
    "\n",
    "![](images/list_array.png)"
   ]
  },
  {
   "cell_type": "code",
   "execution_count": null,
   "metadata": {
    "collapsed": true
   },
   "outputs": [],
   "source": [
    "partners = [[\"Alyha\", \"Jeanne-Marie\"], \n",
    "            [\"Billal\", \"Pranjal\"], \n",
    "            [\"Dusan\", \"Piaoyao\"], \n",
    "            [\"Isabelle\", \"Tyler\"]]"
   ]
  },
  {
   "cell_type": "markdown",
   "metadata": {},
   "source": [
    "![](images/list_indices.png)"
   ]
  },
  {
   "cell_type": "code",
   "execution_count": null,
   "metadata": {
    "collapsed": true
   },
   "outputs": [],
   "source": [
    "# Iterating over a two-dimensional list\n",
    "\n",
    "partners = [[\"Alyha\", \"Jeanne-Marie\"], \n",
    "            [\"Billal\", \"Pranjal\"], \n",
    "            [\"Dusan\", \"Piaoyao\"], \n",
    "            [\"Isabelle\", \"Tyler\"]]"
   ]
  },
  {
   "cell_type": "markdown",
   "metadata": {},
   "source": [
    "# Programming Style\n",
    "\n",
    "* PEP-8\n",
    "* docstrings\n",
    "* Document attributes"
   ]
  },
  {
   "cell_type": "markdown",
   "metadata": {},
   "source": [
    "## What is programming style?\n",
    "\n",
    "* A set of guidelines for writing computer code\n",
    "* More about what people see than what the interpreter sees\n",
    "  * Indentation, spacing, identifier names, line length, comments\n",
    "* Each programming language has it's own style\n",
    "\n",
    "## Why programming style?\n",
    "\n",
    "* Makes code easier to read and understand\n",
    "* Increases portability through consistency\n",
    "* Aesthetics\n",
    "\n",
    "## PEP-8\n",
    "\n",
    "* The Python programming style is called [PEP-8](https://www.python.org/dev/peps/pep-0008/)\n",
    "* PEP is Python Enhanced Proposal\n",
    "* There is a PEP-8 checker built in to PyCharm\n",
    "* Non-conformance to PEP-8 is indicated with a gray squiggly line\n"
   ]
  },
  {
   "cell_type": "markdown",
   "metadata": {},
   "source": [
    "# docstrings\n",
    "\n",
    "* A special kind of comment\n",
    "* Used to generate documentation for the code\n",
    "* Returned by help() function\n",
    "* Python standard for docstrings is [PEP-257](https://www.python.org/dev/peps/pep-0257/)\n",
    "* A comment delimited by triple double quotation marks (\"\"\") \n",
    "* Modules, functions, classes, and methods can have docstrings\n",
    "  * Appears as first line in module (file), function, etc.\n",
    "* Describe \"what,\" not \"how\" "
   ]
  },
  {
   "cell_type": "code",
   "execution_count": null,
   "metadata": {
    "collapsed": false
   },
   "outputs": [],
   "source": [
    "help(\"print\")"
   ]
  },
  {
   "cell_type": "markdown",
   "metadata": {},
   "source": [
    "## What goes in a docstring?\n",
    "\n",
    "* Written like normal English, e.g. begin with a capital and end with a period.\n",
    "* The first line should be a short description (summary)\n",
    "* Don't write the name of the object\n",
    "* If there are more lines, use a blank line to visually separate the rest of the description.\n",
    "* Subsequent lines should be one or more paragraphs describing the object's calling conventions, side effects, etc.\n",
    "* There are some examples in the initial code for Assignment 2"
   ]
  },
  {
   "cell_type": "markdown",
   "metadata": {},
   "source": [
    "# Document Header\n",
    "\n",
    "* Provides metadata for the module (file)\n",
    "* Authorship information"
   ]
  },
  {
   "cell_type": "code",
   "execution_count": null,
   "metadata": {
    "collapsed": true
   },
   "outputs": [],
   "source": [
    "__author__ = 'Susan Sim'\n",
    "__email__ = \"ses@drsusansim.org\"\n",
    "__copyright__ = \"2015 Susan Sim\"\n",
    "__license__ = \"MIT License\""
   ]
  },
  {
   "cell_type": "markdown",
   "metadata": {},
   "source": [
    "Other attributes\n",
    "\n",
    "```\n",
    "__credits__\n",
    "__maintainer__\n",
    "__status__\n",
    "__deprecated__\n",
    "__version__\n",
    "```"
   ]
  },
  {
   "cell_type": "markdown",
   "metadata": {},
   "source": [
    "* PyCharm can put these in for you\n",
    "* Edit document template in Preferences/Settings\n",
    "\n",
    "![](images/pycharm_template.png)"
   ]
  },
  {
   "cell_type": "markdown",
   "metadata": {},
   "source": [
    "# Review\n",
    "\n",
    "* Interpreters\n",
    "* Rules of Programming\n",
    "* Variables\n",
    "* Data Types\n",
    "  * Mutability\n",
    "* Input, processing, and output\n",
    "  * Keyboard input\n",
    "  * Screen output\n",
    "* Decision structures (if/elif/else)\n",
    "* Boolean expressions and operators\n",
    "* Reptition structures\n",
    "  * Condition controlled (while)\n",
    "  * Count controlled (for)\n",
    "    * range function\n",
    "* Functions and methods\n",
    "* Strings\n",
    "  * Indexing\n",
    "  * Slicing\n",
    "* Exceptions\n",
    "  * try/except\n",
    "  * raise\n",
    "* Lists\n",
    "* Programming Style\n",
    "* Testing\n"
   ]
  },
  {
   "cell_type": "markdown",
   "metadata": {},
   "source": [
    "# Lab Exercises\n",
    "\n",
    "Write a function that takes a list of numbers as input and returns the average of those numbers.\n",
    "\n",
    "Write a py.test for the function above.\n",
    "\n",
    "Configure File Template in Pycharm"
   ]
  },
  {
   "cell_type": "code",
   "execution_count": null,
   "metadata": {
    "collapsed": true
   },
   "outputs": [],
   "source": []
  }
 ],
 "metadata": {
  "kernelspec": {
   "display_name": "Python 2",
   "language": "python",
   "name": "python2"
  },
  "language_info": {
   "codemirror_mode": {
    "name": "ipython",
    "version": 2
   },
   "file_extension": ".py",
   "mimetype": "text/x-python",
   "name": "python",
   "nbconvert_exporter": "python",
   "pygments_lexer": "ipython2",
   "version": "2.7.10"
  }
 },
 "nbformat": 4,
 "nbformat_minor": 0
}
