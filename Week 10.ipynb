{
 "cells": [
  {
   "cell_type": "markdown",
   "metadata": {},
   "source": [
    "# Overview\n",
    "\n",
    "* Hour 1\n",
    "  * Curiousities from Assignment 2\n",
    "    * Sets\n",
    "  * Software Decomposition\n",
    "  * Functions\n",
    "  * Modules\n",
    "  * Classes\n",
    "* Hour 2\n",
    "  * Files\n",
    "  * Emily\n",
    "* Hour 3\n",
    "  * Graded lab"
   ]
  },
  {
   "cell_type": "markdown",
   "metadata": {},
   "source": [
    "# A curiousity from Assignment 2\n",
    "\n",
    "* The result of test cases changed when the order was changed\n",
    "* This shouldn't happen because:\n",
    "  * Order shouldn't matter\n",
    "  * The test cases are independent functions"
   ]
  },
  {
   "cell_type": "markdown",
   "metadata": {},
   "source": [
    "# Another curiousity\n",
    "\n",
    "* is_equal function in test file uses \"set\"\n",
    "\n",
    "```\n",
    "def is_equal(t1, t2):\n",
    "    return set(map(tuple, t1)) == set(map(tuple, t2))\n",
    "    \n",
    "def is_equal(t1, t2):\n",
    "    return sorted(t1) == sorted(t2)    \n",
    "```"
   ]
  },
  {
   "cell_type": "code",
   "execution_count": 56,
   "metadata": {
    "collapsed": false
   },
   "outputs": [
    {
     "name": "stdout",
     "output_type": "stream",
     "text": [
      "(['a', 'b', 'c'], [1, 2, 3])\n"
     ]
    }
   ],
   "source": [
    "list1 = [[\"a\", \"b\", \"c\"], [1, 2, 3]]\n",
    "\n",
    "# print tuple([\"a\", \"b\", \"c\"])\n",
    "# print tuple([1, 2, 3])\n",
    "\n",
    "map(tuple, list1)\n",
    "\n",
    "for item in list1:\n",
    "    tuple(item)"
   ]
  },
  {
   "cell_type": "code",
   "execution_count": 61,
   "metadata": {
    "collapsed": false
   },
   "outputs": [],
   "source": [
    "table1 = [[\"a\", \"b\", \"c\"], [1, 2, 3]]\n",
    "table2 = [[\"a\", \"b\", \"c\"], [1, 2, 3]]\n",
    "table3 = [[\"a\", \"b\", \"c\"], [1, 2, 4]]\n",
    "table4 = [[1, 2, 3], [\"a\", \"b\", \"c\"]]\n",
    "\n",
    "# list.sort()\n",
    "# sorted(list)\n",
    "\n",
    "def is_equal(t1, t2):    \n",
    "    t1.sort()\n",
    "    t2.sort()\n",
    "    return t1 == t2\n"
   ]
  },
  {
   "cell_type": "markdown",
   "metadata": {},
   "source": [
    "# Sets\n",
    "\n",
    "A set is a collection data structures that holds unique values. It works like a mathematical set.\n",
    "\n",
    "Properties of Mathematical Sets\n",
    "* All elements in a set must be unique. No two elements have the same value.\n",
    "* Sets are unordered.\n",
    "* Elements in sets can be of different data types\n",
    "\n"
   ]
  },
  {
   "cell_type": "code",
   "execution_count": null,
   "metadata": {
    "collapsed": true
   },
   "outputs": [],
   "source": [
    "# Create a set\n",
    "one_set = set()"
   ]
  },
  {
   "cell_type": "code",
   "execution_count": 58,
   "metadata": {
    "collapsed": false
   },
   "outputs": [
    {
     "name": "stdout",
     "output_type": "stream",
     "text": [
      "set(['a', 'c', 'b'])\n"
     ]
    }
   ],
   "source": [
    "# Constructor takes a single argument that is an iterable\n",
    "another_set = set('aaabcc')\n",
    "\n",
    "print(another_set)"
   ]
  },
  {
   "cell_type": "markdown",
   "metadata": {},
   "source": [
    "# Problem\n",
    "\n",
    "* set() removes duplicates\n",
    "* Not useful for situations where we are testing if duplicates have been removed\n",
    "\n",
    "We'll need a different is_equal function"
   ]
  },
  {
   "cell_type": "code",
   "execution_count": null,
   "metadata": {
    "collapsed": true
   },
   "outputs": [],
   "source": []
  },
  {
   "cell_type": "markdown",
   "metadata": {},
   "source": [
    "# Software Decomposition\n",
    "\n",
    "We break up code into smaller chunks to make it more manageable and easier to understand.\n",
    "\n",
    "## Benefits\n",
    "* Hides information\n",
    "* Chunks lines into concepts\n",
    "* Organize similar concepts together\n",
    "* Creates smaller scopes\n",
    "* Reuse\n",
    "\n",
    "## Language Features\n",
    "* Functions\n",
    "* Modules\n",
    "* Classes"
   ]
  },
  {
   "cell_type": "markdown",
   "metadata": {},
   "source": [
    "# Modules\n",
    "\n",
    "A module is a file that contain Python code. Large programs are easier to debug and maintain when they are divided into modules.\n",
    "\n",
    "We have already been using this feature. Each exercise is a module. Test modules import program modules\n",
    "\n",
    "## Naming Modules\n",
    "* Must end in .py\n",
    "* Must not be a Python keyword\n",
    "\n",
    "## Import\n",
    "* Access the contents of another module using import. It's like reading it into memory.\n",
    "* Put these statements at the top of the file, one per line\n",
    "\n",
    "## Example\n",
    "\n",
    "Suppose you have been asked to write a program that calculates the following.\n",
    "* Area of a circle\n",
    "* Circumference of a circle\n",
    "* Area of a rectangle\n",
    "* Perimeter of a rectangle\n",
    "\n",
    "What modules would you create? What functions would you create?"
   ]
  },
  {
   "cell_type": "markdown",
   "metadata": {},
   "source": [
    "# Functions\n",
    "\n",
    "* A function is a way to group together lines of code.\n",
    "* Useful for doing the same task in different places.\n",
    "* Makes the code easier to read.\n",
    "* Avoids repeating code.\n",
    "\n",
    "```\n",
    "def function_name():\n",
    "    statement\n",
    "    statement\n",
    "    statement\n",
    "```\n",
    "\n",
    "* A function has the following parts.\n",
    "  * A name\n",
    "  * Parameters (inputs)\n",
    "  * Optionally, return values (outputs)\n",
    "  \n",
    "Functions are either a *void function* or a *value-returning function*."
   ]
  },
  {
   "cell_type": "code",
   "execution_count": null,
   "metadata": {
    "collapsed": true
   },
   "outputs": [],
   "source": [
    "# Turn this code into a function\n",
    "\n",
    "def what_to_wear(temperature):\n",
    "    output = \"\"\n",
    "    \n",
    "    if (temperature < 15):\n",
    "        output = \"Wear a coat.\"\n",
    "    \n",
    "    return output\n",
    "\n",
    "what_to_wear(8)"
   ]
  },
  {
   "cell_type": "markdown",
   "metadata": {},
   "source": [
    "# Designing a Program to Use Functions\n",
    "\n",
    "When we design a program, we have to plan ahead to use functions effectively. Taking a problem or program and breaking it into sub-parts is calle *top-down design*.\n",
    "\n",
    "## Steps in Top-Down Design\n",
    "\n",
    "1. The overall task is broken into sub-tasks.\n",
    "2. Each sub-task is examined to determine whether it can be broken down further. Repeat until no more sub-tasks can be identified.\n",
    "3. Once all the sub-tasks are identified, they are written in code.\n"
   ]
  },
  {
   "cell_type": "markdown",
   "metadata": {},
   "source": [
    "## IPO Chart\n",
    "\n",
    "* IPO stands for input, processing, and output.\n",
    "\n",
    "![](images/ipo_chart.png)"
   ]
  },
  {
   "cell_type": "markdown",
   "metadata": {},
   "source": [
    "## Hierarchy Chart\n",
    "\n",
    "Useful for displaying calls to function\n",
    "\n",
    "![](images/function_hierarchy.png)"
   ]
  },
  {
   "cell_type": "code",
   "execution_count": 63,
   "metadata": {
    "collapsed": false
   },
   "outputs": [
    {
     "name": "stdout",
     "output_type": "stream",
     "text": [
      "main\n",
      "get_input\n",
      "get_hours_worked\n",
      "get_hourly_rate\n"
     ]
    }
   ],
   "source": [
    "def get_hourly_rate():\n",
    "    print (\"get_hourly_rate\")\n",
    "\n",
    "def get_hours_worked():\n",
    "    print (\"get_hours_worked\")\n",
    "\n",
    "def get_input():\n",
    "    print (\"get_input\")\n",
    "    get_hours_worked()\n",
    "    get_hourly_rate()\n",
    "\n",
    "def main():\n",
    "    print(\"main\")\n",
    "    get_input()\n",
    "    \n",
    "main()"
   ]
  },
  {
   "cell_type": "markdown",
   "metadata": {},
   "source": [
    "## Example\n",
    "\n",
    "* Lab 3 where we used a function to get and check input from keyboard\n",
    "  * Input function only checked for integer, not for permitted values\n",
    "  * Separation of concerns\n"
   ]
  },
  {
   "cell_type": "markdown",
   "metadata": {},
   "source": [
    "# When to Add a Function\n",
    "\n",
    "* Section of code becomes too long\n",
    "* Functionality is reused\n",
    "\n",
    "# Naming Functions\n",
    "\n",
    "* Verb phrase"
   ]
  },
  {
   "cell_type": "markdown",
   "metadata": {},
   "source": [
    "# Objects\n",
    "\n",
    "* Objects are created from abstract data types that encapsulate data and functionality together.\n",
    "* Idea: Objects, or data representations, are more stable than functionality.\n",
    "* Also called *encapsulation*\n",
    "\n",
    "![](images/object.png)\n",
    "\n",
    "* Information hiding\n",
    "* Object reusability\n",
    "\n",
    "Functions attached to an object are called methods."
   ]
  },
  {
   "cell_type": "markdown",
   "metadata": {},
   "source": [
    "## Example\n",
    "\n",
    "Your alarm clock as a software object. It would have the following data attributes.\n",
    "\n",
    "* current_second (a value in the range 0-59)\n",
    "* current_minute (a value in the range 0-59)\n",
    "* current_hour (a value in the range 0-12)\n",
    "* alarm_time (a valid hour and minute)\n",
    "* alarm_is_set (True or False)\n",
    "\n",
    "These attributes define the *state* of the alarm clock.\n",
    "\n",
    "These attributes are *private*, meaning you can't change them. \n",
    "\n",
    "But you can use *public* methods (buttons) to change them.\n",
    "\n",
    "* set_time\n",
    "* set_alarm_time\n",
    "* set_alarm_on\n",
    "* set_alarm_off\n",
    "\n",
    "There are *private methods* that are part of the clock's internal workings.\n",
    "* increment_current_second\n",
    "* increment_current_minute\n",
    "* increment_current_hour\n",
    "* sound_alarm\n"
   ]
  },
  {
   "cell_type": "markdown",
   "metadata": {},
   "source": [
    "We have already been using objects, specifically the MismatchedAttributesException in Exercise 3 of Assignment 2.\n",
    "\n",
    "# Class\n",
    "\n",
    "* A class is the code that specifies the data attributes and methods for a particular type of object.\n",
    "* They are like blueprints or cookie cutters\n",
    "\n",
    "## Naming\n",
    "* Nouns\n",
    "* Capitalize first letter"
   ]
  },
  {
   "cell_type": "code",
   "execution_count": 65,
   "metadata": {
    "collapsed": true
   },
   "outputs": [],
   "source": [
    "import random\n",
    "\n",
    "# The Coin class simulates a coin that can be flipped\n",
    "\n",
    "class Coin:\n",
    "    # The __init__ methods is the constructor\n",
    "    \n",
    "    def __init__(self):\n",
    "        self.sideup = 'Heads'\n",
    "    \n",
    "    def toss(self):\n",
    "        flip = random.randint(0, 1)\n",
    "        if flip == 0:\n",
    "            self.sideup = \"Heads\"\n",
    "        else:\n",
    "            self.sideup = \"Tails\"\n",
    "    \n",
    "    def get_sideup(self):\n",
    "        return self.sideup"
   ]
  },
  {
   "cell_type": "code",
   "execution_count": 66,
   "metadata": {
    "collapsed": true
   },
   "outputs": [],
   "source": [
    "def main():\n",
    "    my_coin = Coin()\n",
    "    \n",
    "    print(\"This side is up: \" + my_coin.get_sideup())\n",
    "    \n",
    "    print(\"I am tossing the coin...\")\n",
    "    my_coin.toss()\n",
    "    \n",
    "    print(\"This side is up: \" + my_coin.get_sideup())"
   ]
  },
  {
   "cell_type": "code",
   "execution_count": 70,
   "metadata": {
    "collapsed": false
   },
   "outputs": [
    {
     "name": "stdout",
     "output_type": "stream",
     "text": [
      "This side is up: Heads\n",
      "I am tossing the coin...\n",
      "This side is up: Tails\n"
     ]
    }
   ],
   "source": [
    "main()"
   ]
  },
  {
   "cell_type": "code",
   "execution_count": 72,
   "metadata": {
    "collapsed": false
   },
   "outputs": [
    {
     "name": "stdout",
     "output_type": "stream",
     "text": [
      "0\n",
      "0\n",
      "1\n",
      "0\n",
      "0\n"
     ]
    }
   ],
   "source": [
    "for _ in range(5):\n",
    "   print random.randint(0, 1)"
   ]
  },
  {
   "cell_type": "markdown",
   "metadata": {},
   "source": [
    "# File Input and Output\n",
    "\n",
    "* Files store data for later use.\n",
    "* *Writing* to a disk saves data from memory in a file.\n",
    "* *Reading* from a disk gets data from a file and puts it into memory.\n",
    "\n",
    "## Encodings\n",
    "\n",
    "* A bit is a binary digit. It can have a value of 0 or 1. There are 8 bits in 1 byte.\n",
    "* Text encodings, such as ASCII or unicode, can be read by humans. Non-text encodings are used for images, audio, executables, etc.\n",
    "* ASCII is an 7-bit encoding for representing Latinate characters and control codes (like \\n). Since it is 7 bits, it can represent 2^7 or 128 characters.\n",
    "* It has since been succeeded, but not replaced, by Unicode (a character set) encoded in 8, 16, or 32 bits. This format can be used to represent over 113 000 glyphs from a variety of alphabets."
   ]
  },
  {
   "cell_type": "markdown",
   "metadata": {},
   "source": [
    "# Opening a file\n",
    "\n",
    "To start using a file, given its filename, you have to open it. But first, the name— a string. How we get that string depends on our needs. Here are a few options.\n",
    "\n",
    "* Have the user to enter the name using the input() function.\n",
    "* Have user to select it from a list presented by the interface. \n",
    "* Store the name in a configuration file\n",
    "* Hard code the string in the program\n",
    "\n",
    "Once we have the filename, we need to turn it into something that the Python program can work with. This involves creating a file handle or file object, by opening the file."
   ]
  },
  {
   "cell_type": "code",
   "execution_count": 73,
   "metadata": {
    "collapsed": false
   },
   "outputs": [
    {
     "name": "stdout",
     "output_type": "stream",
     "text": [
      "`Twas brillig, and the slithy toves\n",
      "  Did gyre and gimble in the wabe:\n",
      "All mimsy were the borogoves,\n",
      "  And the mome raths outgrabe.\n",
      "\n",
      "\"Beware the Jabberwock, my son!\n",
      "  The jaws that bite, the claws that catch!\n",
      "Beware the Jubjub bird, and shun\n",
      "  The frumious Bandersnatch!\"\n",
      "He took his vorpal sword in hand:\n",
      "  Long time the manxome foe he sought --\n",
      "So rested he by the Tumtum tree,\n",
      "  And stood awhile in thought.\n",
      "And, as in uffish thought he stood,\n",
      "  The Jabberwock, with eyes of flame,\n",
      "Came whiffling through the tulgey wood,\n",
      "  And burbled as it came!\n",
      "One, two! One, two! And through and through\n",
      "  The vorpal blade went snicker-snack!\n",
      "He left it dead, and with its head\n",
      "  He went galumphing back.\n",
      "\"And, has thou slain the Jabberwock?\n",
      "  Come to my arms, my beamish boy!\n",
      "O frabjous day! Callooh! Callay!'\n",
      "  He chortled in his joy.\n",
      "\n",
      "`Twas brillig, and the slithy toves\n",
      "  Did gyre and gimble in the wabe;\n",
      "All mimsy were the borogoves,\n",
      "  And the mome raths outgrabe.\n",
      "\n"
     ]
    }
   ],
   "source": [
    "with open(\"jabberwocky.txt\", \"r\") as file_reader:\n",
    "    # insert file operation here\n",
    "    file_contents = file_reader.read()\n",
    "\n",
    "print file_contents"
   ]
  },
  {
   "cell_type": "markdown",
   "metadata": {},
   "source": [
    "* with is a Python keyword that automatically calls certain functions before and after the statement\n",
    "* open is a Python function\n",
    "* jabberwocky.txt is the name of the file to be opened\n",
    "* file reader is a variable that is assigned the file object (or “stream” or “reader”/“writer”) returned by open\n",
    "* \"r\" is a string indicating what we wish to do with the file.\n",
    "  * Options for this string are \"r\", \"w\", \"a\", meaning read, write or append. The default is \"r\".\n",
    "  * If you write to a file that already exists, the old contents are erased. If you append, the new content is added to the end of the file."
   ]
  },
  {
   "cell_type": "markdown",
   "metadata": {},
   "source": [
    "## What 'with' does for us\n",
    "\n",
    "When opening a file, there are some things that can go wrong. The file might not exist. The program might not have permission to access the file. There might be a hardware error that occurs during access. For these reasons, file reading usually occurs after some checking or within a try-except block.\n",
    "\n",
    "Once we are done accessing the file, we have to close it. The contents aren’t actually saved to disk until we close it. Closing the file also reduces the resources used by our program and makes the file available for others to access.\n",
    "\n",
    "If we didn't have \"with\", here's what the code would look like."
   ]
  },
  {
   "cell_type": "code",
   "execution_count": 46,
   "metadata": {
    "collapsed": false
   },
   "outputs": [],
   "source": [
    "file_name = \"jabberwocky.txt\"\n",
    "\n",
    "try:\n",
    "    file_reader = open(file_name)\n",
    "    # file read operation goes here\n",
    "except(OSError, IOError):\n",
    "    print(\"Error reading file: \" + file_name)\n",
    "else:\n",
    "    s = file_reader.read()\n",
    "    file_reader.close()"
   ]
  },
  {
   "cell_type": "markdown",
   "metadata": {},
   "source": [
    "# Reading from a file\n",
    "\n",
    "Now that we have a file handle or reader, we can get the contents. There are five ways to\n",
    "read from a basic file handle."
   ]
  },
  {
   "cell_type": "code",
   "execution_count": 75,
   "metadata": {
    "collapsed": true
   },
   "outputs": [],
   "source": [
    "file_name = \"jabberwocky.txt\""
   ]
  },
  {
   "cell_type": "code",
   "execution_count": 47,
   "metadata": {
    "collapsed": true
   },
   "outputs": [],
   "source": [
    "# All at once into a string\n",
    "\n",
    "with open(file_name) as file_reader:\n",
    "    file_contents = file_reader.read()"
   ]
  },
  {
   "cell_type": "code",
   "execution_count": null,
   "metadata": {
    "collapsed": true
   },
   "outputs": [],
   "source": [
    "# All at once into a list\n",
    "\n",
    "with open(file_name) as file_reader:\n",
    "    file_contents = file_reader.readlines()"
   ]
  },
  {
   "cell_type": "code",
   "execution_count": null,
   "metadata": {
    "collapsed": false
   },
   "outputs": [],
   "source": [
    "# All lines, one at a time\n",
    "\n",
    "with open(file_name) as file_reader:\n",
    "    for line in file_reader:\n",
    "        print (line),"
   ]
  },
  {
   "cell_type": "markdown",
   "metadata": {},
   "source": [
    "* Why is the output double spaced?\n",
    "* How can we single space the output?"
   ]
  },
  {
   "cell_type": "code",
   "execution_count": 81,
   "metadata": {
    "collapsed": false
   },
   "outputs": [
    {
     "name": "stdout",
     "output_type": "stream",
     "text": [
      "`Twas brillig, and the slithy toves\n",
      "\n",
      "  Did gyre and gimble in the wabe:\n",
      "\n",
      "All mimsy were the borogoves,\n",
      "\n"
     ]
    }
   ],
   "source": [
    "# One line at a time\n",
    "with open(file_name) as file_reader:\n",
    "    line = file_reader.readline()\n",
    "    print(line)\n",
    "    line= file_reader.readline()\n",
    "    print(line)\n",
    "    line = file_reader.readline()\n",
    "    print(line)"
   ]
  },
  {
   "cell_type": "markdown",
   "metadata": {},
   "source": [
    "* When would you use this instead of a for loop?"
   ]
  },
  {
   "cell_type": "code",
   "execution_count": null,
   "metadata": {
    "collapsed": true
   },
   "outputs": [],
   "source": [
    "# By groups of characters\n",
    "with open(file_name) as file_reader:\n",
    "    input_group = file_reader.read(10)   # Read 10 characters\n",
    "    print(input_group)\n",
    "    input_group = file_reader.read(10)   # Read the next 10 characters\n",
    "    print(input_group)"
   ]
  },
  {
   "cell_type": "markdown",
   "metadata": {},
   "source": [
    "## Advantages and Disadvantages"
   ]
  },
  {
   "cell_type": "markdown",
   "metadata": {},
   "source": [
    "# Dealing with \"end of file\"\n",
    "\n",
    "Unless you choose to stop reading, you will eventually reach the end of an input file, called “EOF”. The the first three approaches automatically recognizes EOF. With the remaining two, you have to detect the situation of being at EOF yourself.\n",
    "\n",
    "If you are at EOF, when you call read() or readline() you get an empty string.\n",
    "\n",
    "Note: An empty string is not the same as a blank line."
   ]
  },
  {
   "cell_type": "code",
   "execution_count": null,
   "metadata": {
    "collapsed": true
   },
   "outputs": [],
   "source": [
    "# Open a file called filename and read line by line until EOF is reached"
   ]
  },
  {
   "cell_type": "markdown",
   "metadata": {},
   "source": [
    "# Writing to a file\n",
    "\n",
    "First, we open a file to write, using the same \"with\" construction\n",
    "\n",
    "Then we write the contents."
   ]
  },
  {
   "cell_type": "code",
   "execution_count": 82,
   "metadata": {
    "collapsed": false
   },
   "outputs": [],
   "source": [
    "file_name = \"missive.txt\"\n",
    "\n",
    "with open(file_name, 'w') as output_file:\n",
    "    output_file.write(\"Dear Uncle Marty,\\n\")\n",
    "    output_file.write(\"Thanks for the nifty present.\\n\")\n",
    "    output_file.write(\"Love,\\nYour Niece\\n\")"
   ]
  },
  {
   "cell_type": "markdown",
   "metadata": {},
   "source": [
    "* Until you close, Python may save up the text for later output.\n",
    "  * Examine missive.txt before you close it; it’s probably empty. \n"
   ]
  },
  {
   "cell_type": "code",
   "execution_count": 83,
   "metadata": {
    "collapsed": true
   },
   "outputs": [],
   "source": [
    "output_file = open(file_name, 'w')\n",
    "output_file.write(\"Dear Uncle Marty,\\n\")\n",
    "output_file.write(\"Thanks for the nifty present.\\n\")\n",
    "output_file.write(\"Love,\\nYour Niece\\n\")\n",
    "\n",
    "kb_hit = raw_input(\"waiting...\")\n",
    "output_file.close()"
   ]
  },
  {
   "cell_type": "code",
   "execution_count": null,
   "metadata": {
    "collapsed": true
   },
   "outputs": [],
   "source": []
  }
 ],
 "metadata": {
  "kernelspec": {
   "display_name": "Python 2",
   "language": "python",
   "name": "python2"
  },
  "language_info": {
   "codemirror_mode": {
    "name": "ipython",
    "version": 2
   },
   "file_extension": ".py",
   "mimetype": "text/x-python",
   "name": "python",
   "nbconvert_exporter": "python",
   "pygments_lexer": "ipython2",
   "version": "2.7.10"
  }
 },
 "nbformat": 4,
 "nbformat_minor": 0
}
