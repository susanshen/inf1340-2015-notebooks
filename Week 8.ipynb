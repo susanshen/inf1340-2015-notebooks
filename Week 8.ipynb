{
 "cells": [
  {
   "cell_type": "markdown",
   "metadata": {},
   "source": [
    "# Overview\n",
    "\n",
    "* Hour 1\n",
    "  * Tuples\n",
    "  * Dictionaries\n",
    "  * Take Up Midterm\n",
    "* Hours 2 and 3\n",
    "  * Work Time"
   ]
  },
  {
   "cell_type": "markdown",
   "metadata": {},
   "source": [
    "# Lists\n",
    "\n",
    "* A list is an object that contains multiple data items\n",
    "* Lists are mutable\n",
    "* Lists can be indexed and sliced\n",
    "* Lists have methods\n",
    "\n",
    "## Syntax\n",
    "* Square brackets\n",
    "* Commas as separators"
   ]
  },
  {
   "cell_type": "code",
   "execution_count": 33,
   "metadata": {
    "collapsed": false
   },
   "outputs": [
    {
     "name": "stdout",
     "output_type": "stream",
     "text": [
      "[1, 'Terry', 4]\n"
     ]
    }
   ],
   "source": [
    "number_list = [1, 2, 4, 8, 16, 32]\n",
    "the_pythons = [\"Graham\", \"Terry\",  \"Michael\", \"Eric\", \"Terry\", \"John\"]\n",
    "mixed = [1, \"Terry\", 4]\n",
    "\n",
    "print (mixed)"
   ]
  },
  {
   "cell_type": "markdown",
   "metadata": {},
   "source": [
    "# Tuple\n",
    "\n",
    "* A tuple is an immutable version of a list\n",
    "* Immutable means that the contents cannot change after creation\n",
    "\n",
    "## Syntax\n",
    "\n",
    "* Parentheses\n",
    "* Commas as separators"
   ]
  },
  {
   "cell_type": "code",
   "execution_count": 34,
   "metadata": {
    "collapsed": true
   },
   "outputs": [],
   "source": [
    "monty = (\"Graham\", \"Terry\",  \"Michael\", \"Eric\", \"Terry\", \"John\")"
   ]
  },
  {
   "cell_type": "code",
   "execution_count": 35,
   "metadata": {
    "collapsed": false
   },
   "outputs": [
    {
     "name": "stdout",
     "output_type": "stream",
     "text": [
      "('Graham', 'Terry', 'Michael', 'Eric', 'Terry', 'John')\n"
     ]
    }
   ],
   "source": [
    "# the entire tuple\n",
    "print (monty)"
   ]
  },
  {
   "cell_type": "code",
   "execution_count": 36,
   "metadata": {
    "collapsed": false
   },
   "outputs": [
    {
     "name": "stdout",
     "output_type": "stream",
     "text": [
      "Graham\n",
      "Terry\n",
      "Michael\n",
      "Eric\n",
      "Terry\n",
      "John\n"
     ]
    }
   ],
   "source": [
    "# one element at a time\n",
    "for name in monty:\n",
    "    print(name)"
   ]
  },
  {
   "cell_type": "code",
   "execution_count": 39,
   "metadata": {
    "collapsed": false
   },
   "outputs": [
    {
     "name": "stdout",
     "output_type": "stream",
     "text": [
      "Michael\n",
      "Michael\n"
     ]
    }
   ],
   "source": [
    "# indexing\n",
    "print(the_pythons[2])\n",
    "\n",
    "print(monty[2])\n"
   ]
  },
  {
   "cell_type": "markdown",
   "metadata": {},
   "source": [
    "[] brackets or square brackets\n",
    "() parentheses\n",
    "{} curly braces or braces"
   ]
  },
  {
   "cell_type": "markdown",
   "metadata": {},
   "source": [
    "# Converting Between Lists and Tuples\n",
    "\n",
    "```\n",
    "list()\n",
    "tuple()\n",
    "```\n"
   ]
  },
  {
   "cell_type": "code",
   "execution_count": 7,
   "metadata": {
    "collapsed": false
   },
   "outputs": [
    {
     "name": "stdout",
     "output_type": "stream",
     "text": [
      "('Graham', 'Terry', 'Michael', 'Eric', 'Terry', 'John')\n",
      "['Graham', 'Terry', 'Michael', 'Eric', 'Terry', 'John']\n"
     ]
    }
   ],
   "source": [
    "# monty is the tuple, and the_pythons is a list\n",
    "print (monty)\n",
    "print (list(monty))"
   ]
  },
  {
   "cell_type": "code",
   "execution_count": 9,
   "metadata": {
    "collapsed": false
   },
   "outputs": [
    {
     "name": "stdout",
     "output_type": "stream",
     "text": [
      "['Graham', 'Terry', 'Michael', 'Eric', 'Terry', 'John']\n",
      "('Graham', 'Terry', 'Michael', 'Eric', 'Terry', 'John')\n"
     ]
    }
   ],
   "source": [
    "print (the_pythons)\n",
    "print (tuple(the_pythons))"
   ]
  },
  {
   "cell_type": "markdown",
   "metadata": {},
   "source": [
    "# Why?\n",
    "\n",
    "* Performance\n",
    "  * Tuples are faster\n",
    "* Safety\n",
    "  * Can't be modified\n",
    "  \n",
    "Looking ahead: tuples can be keys in a dictionary, but lists can't"
   ]
  },
  {
   "cell_type": "code",
   "execution_count": null,
   "metadata": {
    "collapsed": true
   },
   "outputs": [],
   "source": [
    "# Safer than constants, because it is enforced by interpreter\n",
    "CONVERSION_CONSTANT = 5/9\n"
   ]
  },
  {
   "cell_type": "markdown",
   "metadata": {},
   "source": [
    "# Dictionaries\n",
    "\n",
    "* A dictionary is a collection data structure. Each element in a dictionary has two parts: a **key** and a **value**. You use a key to locate a specific value.\n",
    "* Shorthand description: a dictionary is like a list, but instead of the index being a number, the index is any value, e.g. int, float, string, tuple, etc.\n",
    "* Think dictionaries and phone books"
   ]
  },
  {
   "cell_type": "code",
   "execution_count": 20,
   "metadata": {
    "collapsed": false
   },
   "outputs": [
    {
     "name": "stdout",
     "output_type": "stream",
     "text": [
      "{(1, 2): 'x,y coordinates', 'pi': 3.14159, (2, 3): 'x,y coordinates', 3.14: 'pi'}\n"
     ]
    }
   ],
   "source": [
    "my_dict = {}\n",
    "my_dict[3.14] = \"pi\"\n",
    "my_dict[\"pi\"] = 3.14159\n",
    "my_dict[(1,2)] = \"x,y coordinates\"\n",
    "my_dict[(2,3)] = \"x,y coordinates\"\n",
    "print my_dict"
   ]
  },
  {
   "cell_type": "code",
   "execution_count": 40,
   "metadata": {
    "collapsed": false
   },
   "outputs": [
    {
     "name": "stdout",
     "output_type": "stream",
     "text": [
      "{(1, 2): [4, 5, 6, 7], 'pi': 3.14159, (2, 3): 'x,y coordinates', 3.14: 'pi'}\n"
     ]
    }
   ],
   "source": [
    "my_dict[(1,2)] = [4, 5, 6, 7]\n",
    "print my_dict"
   ]
  },
  {
   "cell_type": "code",
   "execution_count": 41,
   "metadata": {
    "collapsed": false
   },
   "outputs": [
    {
     "data": {
      "text/plain": [
       "4"
      ]
     },
     "execution_count": 41,
     "metadata": {},
     "output_type": "execute_result"
    }
   ],
   "source": [
    "len(my_dict)"
   ]
  },
  {
   "cell_type": "code",
   "execution_count": 14,
   "metadata": {
    "collapsed": true
   },
   "outputs": [],
   "source": [
    "phone_book = {\"Graham\":\"555-111\", \n",
    "              \"Terry\": \"555-2222\", \n",
    "              \"Michael\": \"555-3333\"}"
   ]
  },
  {
   "cell_type": "markdown",
   "metadata": {},
   "source": [
    "# Retrieving a Value from a Dictionary\n",
    "\n",
    "```\n",
    "dictionary[key]\n",
    "```"
   ]
  },
  {
   "cell_type": "code",
   "execution_count": 15,
   "metadata": {
    "collapsed": false
   },
   "outputs": [
    {
     "data": {
      "text/plain": [
       "{'Graham': '555-111', 'Michael': '555-3333', 'Terry': '555-2222'}"
      ]
     },
     "execution_count": 15,
     "metadata": {},
     "output_type": "execute_result"
    }
   ],
   "source": [
    "phone_book"
   ]
  },
  {
   "cell_type": "code",
   "execution_count": 18,
   "metadata": {
    "collapsed": false
   },
   "outputs": [
    {
     "data": {
      "text/plain": [
       "'555-3333'"
      ]
     },
     "execution_count": 18,
     "metadata": {},
     "output_type": "execute_result"
    }
   ],
   "source": [
    "phone_book['Michael']"
   ]
  },
  {
   "cell_type": "code",
   "execution_count": 42,
   "metadata": {
    "collapsed": false
   },
   "outputs": [
    {
     "data": {
      "text/plain": [
       "[4, 5, 6, 7]"
      ]
     },
     "execution_count": 42,
     "metadata": {},
     "output_type": "execute_result"
    }
   ],
   "source": [
    "my_dict[(1,2)]"
   ]
  },
  {
   "cell_type": "code",
   "execution_count": 43,
   "metadata": {
    "collapsed": false
   },
   "outputs": [
    {
     "ename": "KeyError",
     "evalue": "'Wanda'",
     "output_type": "error",
     "traceback": [
      "\u001b[0;31m---------------------------------------------------------------------------\u001b[0m",
      "\u001b[0;31mKeyError\u001b[0m                                  Traceback (most recent call last)",
      "\u001b[0;32m<ipython-input-43-7a063856545e>\u001b[0m in \u001b[0;36m<module>\u001b[0;34m()\u001b[0m\n\u001b[0;32m----> 1\u001b[0;31m \u001b[0mphone_book\u001b[0m\u001b[0;34m[\u001b[0m\u001b[0;34m'Wanda'\u001b[0m\u001b[0;34m]\u001b[0m\u001b[0;34m\u001b[0m\u001b[0m\n\u001b[0m",
      "\u001b[0;31mKeyError\u001b[0m: 'Wanda'"
     ]
    }
   ],
   "source": [
    "phone_book['Wanda']"
   ]
  },
  {
   "cell_type": "markdown",
   "metadata": {},
   "source": [
    "# Testing for Value in a Dictionary"
   ]
  },
  {
   "cell_type": "code",
   "execution_count": 45,
   "metadata": {
    "collapsed": false
   },
   "outputs": [
    {
     "name": "stdout",
     "output_type": "stream",
     "text": [
      "555-3333\n"
     ]
    }
   ],
   "source": [
    "# Using 'in'\n",
    "\n",
    "if \"Michael\" in phone_book:\n",
    "    print phone_book[\"Michael\"]"
   ]
  },
  {
   "cell_type": "code",
   "execution_count": 46,
   "metadata": {
    "collapsed": false
   },
   "outputs": [
    {
     "name": "stdout",
     "output_type": "stream",
     "text": [
      "Fish don't need phone numbers\n"
     ]
    }
   ],
   "source": [
    "# Using 'not in'\n",
    "\n",
    "if \"Wanda\" not in phone_book:\n",
    "    print(\"Fish don't need phone numbers\")"
   ]
  },
  {
   "cell_type": "markdown",
   "metadata": {},
   "source": [
    "# Adding Elements to a Dictionary"
   ]
  },
  {
   "cell_type": "code",
   "execution_count": 49,
   "metadata": {
    "collapsed": false
   },
   "outputs": [
    {
     "name": "stdout",
     "output_type": "stream",
     "text": [
      "{'Michael': '555-3333', 'John': '555-6666', 'Graham': '555-111', 'Eric': '555-4444', 'Terry': '555-5555'}\n"
     ]
    }
   ],
   "source": [
    "print(phone_book)\n",
    "\n",
    "# Eric, Terry, John\n",
    "\n",
    "phone_book[\"Eric\"] = \"555-4444\"\n",
    "phone_book[\"Terry\"] = \"555-5555\"\n",
    "phone_book[\"John\"] = \"555-6666\""
   ]
  },
  {
   "cell_type": "markdown",
   "metadata": {},
   "source": [
    "# Deleting Elements\n",
    "\n",
    "```\n",
    "del dictionary[key]\n",
    "```"
   ]
  },
  {
   "cell_type": "code",
   "execution_count": 50,
   "metadata": {
    "collapsed": true
   },
   "outputs": [],
   "source": [
    "del phone_book[\"John\"]"
   ]
  },
  {
   "cell_type": "code",
   "execution_count": 51,
   "metadata": {
    "collapsed": false
   },
   "outputs": [
    {
     "name": "stdout",
     "output_type": "stream",
     "text": [
      "{'Michael': '555-3333', 'Graham': '555-111', 'Eric': '555-4444', 'Terry': '555-5555'}\n"
     ]
    }
   ],
   "source": [
    "print(phone_book)"
   ]
  },
  {
   "cell_type": "markdown",
   "metadata": {},
   "source": [
    "# Putting it together\n",
    "\n",
    "* Test for presence of key before deletion"
   ]
  },
  {
   "cell_type": "code",
   "execution_count": 53,
   "metadata": {
    "collapsed": false
   },
   "outputs": [
    {
     "name": "stdout",
     "output_type": "stream",
     "text": [
      "{'Graham': '555-111', 'Eric': '555-4444', 'Terry': '555-5555'}\n"
     ]
    }
   ],
   "source": [
    "if 'Michael' in phone_book:\n",
    "    del phone_book['Michael']\n",
    "\n",
    "print(phone_book)"
   ]
  },
  {
   "cell_type": "code",
   "execution_count": 54,
   "metadata": {
    "collapsed": true
   },
   "outputs": [],
   "source": [
    "if '555-4444' in phone_book:\n",
    "    print (\"Can match values too!\")"
   ]
  },
  {
   "cell_type": "markdown",
   "metadata": {},
   "source": [
    "# Iterating over a Dictionary"
   ]
  },
  {
   "cell_type": "code",
   "execution_count": 55,
   "metadata": {
    "collapsed": false
   },
   "outputs": [
    {
     "name": "stdout",
     "output_type": "stream",
     "text": [
      "('Graham', '555-111')\n",
      "('Eric', '555-4444')\n",
      "('Terry', '555-5555')\n"
     ]
    }
   ],
   "source": [
    "for name in phone_book:\n",
    "    print (name, phone_book[name])"
   ]
  },
  {
   "cell_type": "markdown",
   "metadata": {},
   "source": [
    "# Dictionary Methods\n",
    "\n",
    "![](images/dictionary_methods.png)\n"
   ]
  },
  {
   "cell_type": "code",
   "execution_count": 56,
   "metadata": {
    "collapsed": false
   },
   "outputs": [
    {
     "data": {
      "text/plain": [
       "[('Graham', '555-111'), ('Eric', '555-4444'), ('Terry', '555-5555')]"
      ]
     },
     "execution_count": 56,
     "metadata": {},
     "output_type": "execute_result"
    }
   ],
   "source": [
    "phone_book.items()"
   ]
  },
  {
   "cell_type": "code",
   "execution_count": 57,
   "metadata": {
    "collapsed": false
   },
   "outputs": [
    {
     "data": {
      "text/plain": [
       "['Graham', 'Eric', 'Terry']"
      ]
     },
     "execution_count": 57,
     "metadata": {},
     "output_type": "execute_result"
    }
   ],
   "source": [
    "phone_book.keys()"
   ]
  },
  {
   "cell_type": "code",
   "execution_count": 58,
   "metadata": {
    "collapsed": false
   },
   "outputs": [
    {
     "data": {
      "text/plain": [
       "['555-111', '555-4444', '555-5555']"
      ]
     },
     "execution_count": 58,
     "metadata": {},
     "output_type": "execute_result"
    }
   ],
   "source": [
    "phone_book.values()"
   ]
  },
  {
   "cell_type": "code",
   "execution_count": 59,
   "metadata": {
    "collapsed": false
   },
   "outputs": [
    {
     "name": "stdout",
     "output_type": "stream",
     "text": [
      "We can match values too\n"
     ]
    }
   ],
   "source": [
    "if '555-4444' in phone_book.values():\n",
    "    print(\"We can match values too\")"
   ]
  },
  {
   "cell_type": "markdown",
   "metadata": {},
   "source": [
    "# Midterm Discussion"
   ]
  },
  {
   "cell_type": "code",
   "execution_count": 62,
   "metadata": {
    "collapsed": false
   },
   "outputs": [
    {
     "ename": "SyntaxError",
     "evalue": "invalid syntax (<ipython-input-62-f4a5eccef0b1>, line 2)",
     "output_type": "error",
     "traceback": [
      "\u001b[0;36m  File \u001b[0;32m\"<ipython-input-62-f4a5eccef0b1>\"\u001b[0;36m, line \u001b[0;32m2\u001b[0m\n\u001b[0;31m    if even = True:\u001b[0m\n\u001b[0m            ^\u001b[0m\n\u001b[0;31mSyntaxError\u001b[0m\u001b[0;31m:\u001b[0m invalid syntax\n"
     ]
    }
   ],
   "source": [
    "even = False\n",
    "if even = True: \n",
    "    print(\"It is even!\")\n"
   ]
  },
  {
   "cell_type": "code",
   "execution_count": 63,
   "metadata": {
    "collapsed": false
   },
   "outputs": [
    {
     "data": {
      "text/plain": [
       "False"
      ]
     },
     "execution_count": 63,
     "metadata": {},
     "output_type": "execute_result"
    }
   ],
   "source": [
    "154 >= 300 != False"
   ]
  },
  {
   "cell_type": "code",
   "execution_count": 71,
   "metadata": {
    "collapsed": false
   },
   "outputs": [
    {
     "name": "stdout",
     "output_type": "stream",
     "text": [
      "Same!\n"
     ]
    }
   ],
   "source": [
    "def is_equal(t1, t2):\n",
    "#    return t1 == t2\n",
    "    return t1.sort() == t2.sort()\n",
    "\n",
    "list1 = [\"name\", \"age\", \"temp\"]\n",
    "list2 = [\"name\", \"temp\", \"age\"]\n",
    "\n",
    "if is_equal(list1, list2):\n",
    "    print(\"Same!\")\n",
    "else:\n",
    "    print (\"Different!\")"
   ]
  },
  {
   "cell_type": "markdown",
   "metadata": {},
   "source": []
  }
 ],
 "metadata": {
  "kernelspec": {
   "display_name": "Python 2",
   "language": "python",
   "name": "python2"
  },
  "language_info": {
   "codemirror_mode": {
    "name": "ipython",
    "version": 2
   },
   "file_extension": ".py",
   "mimetype": "text/x-python",
   "name": "python",
   "nbconvert_exporter": "python",
   "pygments_lexer": "ipython2",
   "version": "2.7.10"
  }
 },
 "nbformat": 4,
 "nbformat_minor": 0
}
